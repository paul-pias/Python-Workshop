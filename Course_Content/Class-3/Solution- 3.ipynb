{
 "cells": [
  {
   "cell_type": "markdown",
   "metadata": {},
   "source": [
    "## Problem - 1\n"
   ]
  },
  {
   "cell_type": "code",
   "execution_count": null,
   "metadata": {},
   "outputs": [],
   "source": [
    "month = 8\n",
    "days_in_month = [31,28,31,30,31,30,31,31,30,31,30,31]\n",
    "\n",
    "# use list indexing to determine the number of days in month\n",
    "\n",
    "num_days = days_in_month[7]\n",
    "print(num_days)"
   ]
  },
  {
   "cell_type": "markdown",
   "metadata": {},
   "source": [
    "## Problem - 2"
   ]
  },
  {
   "cell_type": "code",
   "execution_count": null,
   "metadata": {},
   "outputs": [],
   "source": [
    "verse = \"if you can keep your head when all about you are losing theirs and blaming it on you   if you can trust yourself when all men doubt you     but make allowance for their doubting too   if you can wait and not be tired by waiting      or being lied about  don’t deal in lies   or being hated  don’t give way to hating      and yet don’t look too good  nor talk too wise\"\n",
    "print(verse, '\\n')\n",
    "\n",
    "# split verse into list of words\n",
    "verse_list = verse.split()\n",
    "print(verse_list, '\\n')\n",
    "\n",
    "# convert list to a data structure that stores unique elements\n",
    "verse_set = set(verse_list)\n",
    "print(verse_set, '\\n')\n",
    "\n",
    "# print the number of unique words\n",
    "num_unique = len(verse_set)\n",
    "print(num_unique, '\\n')"
   ]
  },
  {
   "cell_type": "markdown",
   "metadata": {},
   "source": [
    "## Problem - 3"
   ]
  },
  {
   "cell_type": "code",
   "execution_count": null,
   "metadata": {},
   "outputs": [],
   "source": [
    "population = {'Shanghai' : 17.8, 'Istanbul' : 13.3, 'Karachi' : 13.0, 'Mumbai' : 12.5}\n",
    "msg ={**population}\n",
    "print(msg)\n",
    "print(population['Shanghai'])\n",
    "print(population.get('Dhaka'))\n",
    "population.update({'Dhaka' : 22.5})\n",
    "print(population)"
   ]
  },
  {
   "cell_type": "markdown",
   "metadata": {},
   "source": [
    "## Problem - 4"
   ]
  },
  {
   "cell_type": "code",
   "execution_count": null,
   "metadata": {},
   "outputs": [],
   "source": [
    "movie_name = {\"Braveheart\" : 1995, \"The Terminal\" : 2004, \"The Hateful Eight\" : 2015, \"Vertigo\" : 1958,\n",
    "              \"Amadeus\" : 1984, \"Unforgiven\" : 1992}\n",
    "director_name = ['Mel Gibson', 'Steven Spielberg' , 'Quentin Tarantino','Alfred Hitchcock',\n",
    "                 'Milos Forman','Clint Eastwood' ]\n",
    "# for key, value in movie_name.items():\n",
    "#     for name in director_name:\n",
    "#         movie_name[key] = {\"name\" : name, \"year\":value}\n"
   ]
  },
  {
   "cell_type": "markdown",
   "metadata": {},
   "source": [
    "## Problem - 5"
   ]
  },
  {
   "cell_type": "code",
   "execution_count": null,
   "metadata": {},
   "outputs": [],
   "source": [
    "points = 174  # use this input to make your submission\n",
    "\n",
    "# write your if statement here\n",
    "\n",
    "if points>=1 and points<=50:\n",
    "    result =\"Congratulations! You won a wooden rabbit!\"\n",
    "    print(result)\n",
    "elif points>=51 and points<=150:\n",
    "    result = \"Oh dear, no prize this time.\"\n",
    "    print(result)a\n",
    "elif points>=151 and points<=180:\n",
    "    result = \"Congratulations! You won a wafer-thin mint!\"\n",
    "    print(result)\n",
    "elif points>=181 and points<=200:\n",
    "    result = \"Congratulations! You won a penguin!\"\n",
    "    print(result)\n"
   ]
  },
  {
   "cell_type": "markdown",
   "metadata": {},
   "source": [
    "## Problem - 6"
   ]
  },
  {
   "cell_type": "code",
   "execution_count": null,
   "metadata": {},
   "outputs": [],
   "source": [
    "state = \"CA\"\n",
    "purchase_amount = 120\n",
    "\n",
    "if state == \"CA\":\n",
    "    tax_amount = .075\n",
    "    total_cost = purchase_amount*(1+tax_amount)\n",
    "    result = \"Since you're from {}, your total cost is {}.\".format(state, total_cost)\n",
    "\n",
    "elif state == \"MN\":\n",
    "    tax_amount = .095\n",
    "    total_cost = purchase_amount*(1+tax_amount)\n",
    "    result = \"Since you're from {}, your total cost is {}.\".format(state, total_cost)\n",
    "\n",
    "elif state == \"NY\":\n",
    "    tax_amount = .089\n",
    "    total_cost = purchase_amount*(1+tax_amount)\n",
    "    result = \"Since you're from {}, your total cost is {}.\".format(state, total_cost)\n",
    "\n",
    "print(result)"
   ]
  }
 ],
 "metadata": {
  "kernelspec": {
   "display_name": "Python 3",
   "language": "python",
   "name": "python3"
  },
  "language_info": {
   "codemirror_mode": {
    "name": "ipython",
    "version": 3
   },
   "file_extension": ".py",
   "mimetype": "text/x-python",
   "name": "python",
   "nbconvert_exporter": "python",
   "pygments_lexer": "ipython3",
   "version": "3.6.8"
  }
 },
 "nbformat": 4,
 "nbformat_minor": 2
}
