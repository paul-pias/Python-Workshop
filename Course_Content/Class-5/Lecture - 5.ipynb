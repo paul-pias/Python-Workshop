{
 "cells": [
  {
   "cell_type": "markdown",
   "metadata": {},
   "source": [
    "## Assignment -1"
   ]
  },
  {
   "cell_type": "code",
   "execution_count": 40,
   "metadata": {},
   "outputs": [],
   "source": [
    "with open(\"movie_Information.txt\",'r') as f:\n",
    "    movies = f.read()\n",
    "    \n",
    "    with open (\"Actors_Information.txt\",'a') as m:\n",
    "        movies = movies.split(\"\\n\")\n",
    "#         m.write(movies)\n",
    "#         print(movies.split(\":\"))\n",
    "        \n",
    "        for movie in movies:\n",
    "#             print(movie)\n",
    "#             print(movie.split(\":\")[0])\n",
    "            actor_name = (movie.split(\":\")[2])\n",
    "            movie_name = (movie.split(\":\")[0])\n",
    "            m.write(actor_name.strip() + \" : \" + movie_name.strip() + '\\n')"
   ]
  },
  {
   "cell_type": "markdown",
   "metadata": {},
   "source": [
    "#### Counter Number of Actor in that new text File"
   ]
  },
  {
   "cell_type": "code",
   "execution_count": 48,
   "metadata": {},
   "outputs": [
    {
     "name": "stdout",
     "output_type": "stream",
     "text": [
      "5\n"
     ]
    }
   ],
   "source": [
    "with open (\"Actors_Information.txt\",'r') as f:\n",
    "    info = f.read().splitlines()\n",
    "\n",
    "count = 1\n",
    "for i in range(0,len(info)):\n",
    "    actor,movie_name = info[i].split(\":\")\n",
    "    if actor.count(\"Tom Hanks\") == True:\n",
    "        count+=1\n",
    "print(count)"
   ]
  },
  {
   "cell_type": "code",
   "execution_count": null,
   "metadata": {},
   "outputs": [],
   "source": []
  },
  {
   "cell_type": "code",
   "execution_count": 38,
   "metadata": {},
   "outputs": [],
   "source": [
    "with open(\"movie_Information.txt\",'r') as f:\n",
    "    movies = f.readlines()\n",
    "#     print(movies)\n",
    "    with open (\"Actors_Information.txt\",'w') as m:\n",
    "        for movie in movies:\n",
    "#             print((movie))\n",
    "            actor_name = movie.split(\":\")\n",
    "#             print((actor_name))"
   ]
  },
  {
   "cell_type": "markdown",
   "metadata": {},
   "source": [
    "## Assignment - 2"
   ]
  },
  {
   "cell_type": "code",
   "execution_count": 16,
   "metadata": {},
   "outputs": [
    {
     "name": "stdout",
     "output_type": "stream",
     "text": [
      "nom_count_dict = {'Stephen Daldry': 3, 'Ang Lee': 2, 'Steven Soderbergh': 2, 'Ridley Scott': 2, 'Robert Altman': 1, 'Peter Jackson': 2, 'David Lynch': 1, 'Ron Howard': 2, 'Rob Marshall': 1, 'Martin Scorsese': 3, 'Pedro Almodovar': 1, 'Roman Polanski': 1, 'Fernando Meirelles': 1, 'Sofia Coppola': 1, 'Peter Weir': 1, 'Clint Eastwood': 3, 'Taylor Hackford': 1, 'Alexander Payne': 1, 'Mike Leigh': 1, 'Bennett Miller': 1, 'Paul Haggis': 1, 'George Clooney': 1, 'Steven Spielberg': 1, 'Alejandro Gonzaalez Inarritu': 1, 'Stephen Frears': 1, 'Paul Greengrass': 1, 'Julian Schnabel': 1, 'Jason Reitman': 2, 'Tony Gilroy': 1, 'Paul Thomas Anderson': 1, 'Joel Coen': 2, 'Ethan Coen': 2, 'David Fincher': 2, 'Gus Van Sant': 1, 'Danny Boyle': 1, 'James Cameron': 1, 'Quentin Tarantino': 1, 'Lee Daniels': 1, 'Kathryn Bigelow': 1, 'Darren Aronofsky': 1, 'David O. Russell': 1, 'Tom Hooper': 1}\n",
      "\n",
      "win_count_dict = {'Steven Soderbergh': 1, 'Ron Howard': 1, 'Roman Polanski': 1, 'Peter Jackson': 1, 'Clint Eastwood': 1, 'Ang Lee': 1, 'Martin Scorsese': 1, 'Ethan Coen': 1, 'Joel Coen': 1, 'Danny Boyle': 1, 'Kathryn Bigelow': 1, 'Tom Hooper': 1}\n"
     ]
    }
   ],
   "source": [
    "nominated = {2000: ['Stephen Daldry', 'Ang Lee', 'Steven Soderbergh', 'Ridley Scott', 'Steven Soderbergh'],\n",
    "2001: ['Ridley Scott', 'Robert Altman', 'Peter Jackson', 'David Lynch', 'Ron Howard'], \n",
    "2002: ['Rob Marshall', 'Martin Scorsese', 'Stephen Daldry', 'Pedro Almodovar', 'Roman Polanski'],\n",
    "2003: ['Fernando Meirelles', 'Sofia Coppola', 'Peter Weir', 'Clint Eastwood', 'Peter Jackson'], \n",
    "2004: ['Martin Scorsese', 'Taylor Hackford', 'Alexander Payne', 'Mike Leigh', 'Clint Eastwood'], \n",
    "2005: ['Ang Lee', 'Bennett Miller', 'Paul Haggis', 'George Clooney', 'Steven Spielberg'], \n",
    "2006: ['Alejandro Gonzaalez Inarritu', 'Clint Eastwood', 'Stephen Frears', 'Paul Greengrass', 'Martin Scorsese'], \n",
    "2007: ['Julian Schnabel', 'Jason Reitman', 'Tony Gilroy', 'Paul Thomas Anderson', 'Joel Coen', 'Ethan Coen'], \n",
    "2008: ['David Fincher', 'Ron Howard', 'Gus Van Sant', 'Stephen Daldry', 'Danny Boyle'], \n",
    "2009: ['James Cameron', 'Quentin Tarantino', 'Lee Daniels', 'Jason Reitman', 'Kathryn Bigelow'], \n",
    "2010: ['Darren Aronofsky', 'David O. Russell', 'David Fincher', 'Ethan Coen', 'Joel Coen', 'Tom Hooper']\n",
    "}\n",
    "winners = {2000: ['Steven Soderbergh'],\n",
    "2001: ['Ron Howard'],\n",
    "2002: ['Roman Polanski'],\n",
    "2003: ['Peter Jackson'], \n",
    "2004: ['Clint Eastwood'], \n",
    "2005: ['Ang Lee'], \n",
    "2006: ['Martin Scorsese'], \n",
    "2007: ['Ethan Coen', 'Joel Coen'], \n",
    "2008: ['Danny Boyle'], \n",
    "2009: ['Kathryn Bigelow'], \n",
    "2010: ['Tom Hooper']}\n",
    "### 1A: Create dictionary with the count of Oscar nominations for each director \n",
    "nom_count_dict = {}\n",
    "# Add your code here\n",
    "for year, name in nominated.items():\n",
    "    for director in name:\n",
    "        if director not in nom_count_dict:\n",
    "            nom_count_dict[director] = 1\n",
    "        else:\n",
    "            nom_count_dict[director] +=1\n",
    "\n",
    "\n",
    "print(\"nom_count_dict = {}\\n\".format(nom_count_dict))\n",
    "\n",
    "\n",
    "### 1B: Create dictionary with the count of Oscar wins for each director\n",
    "win_count_dict = {}\n",
    "# Add your code here\n",
    "for year, name in winners.items():\n",
    "    for director in name:\n",
    "        if director not in win_count_dict:\n",
    "            win_count_dict[director] = 1\n",
    "        else:\n",
    "            win_count_dict[director] +=1\n",
    "        \n",
    "\n",
    "\n",
    "print(\"win_count_dict = {}\".format(win_count_dict))"
   ]
  },
  {
   "cell_type": "markdown",
   "metadata": {},
   "source": [
    "## Factorials with Function"
   ]
  },
  {
   "cell_type": "code",
   "execution_count": 18,
   "metadata": {},
   "outputs": [
    {
     "name": "stdout",
     "output_type": "stream",
     "text": [
      "720\n"
     ]
    }
   ],
   "source": [
    "def factorial(number):\n",
    "    # number to find the factorial of\n",
    "    # start with our product equal to one\n",
    "    product = 1\n",
    "\n",
    "    # track the current number being multiplied\n",
    "    current = 1\n",
    "\n",
    "    # write your while loop here\n",
    "    while (current<=number):\n",
    "        product *= current\n",
    "        # print(product)\n",
    "\n",
    "        current+=1\n",
    "    return product\n",
    "\n",
    "# print the factorial of number\n",
    "print(factorial(6))"
   ]
  },
  {
   "cell_type": "code",
   "execution_count": 19,
   "metadata": {},
   "outputs": [
    {
     "name": "stdout",
     "output_type": "stream",
     "text": [
      "720\n"
     ]
    }
   ],
   "source": [
    "def factorial(number):\n",
    "    # number to find the factorial of\n",
    "    number = 6   \n",
    "\n",
    "    # start with our product equal to one\n",
    "    product = 1\n",
    "\n",
    "    # write your for loop here\n",
    "    for num in range(1,number+1):\n",
    "        product*=num\n",
    "    return product\n",
    "# print the factorial of number\n",
    "print(factorial(6))"
   ]
  },
  {
   "cell_type": "markdown",
   "metadata": {},
   "source": [
    "#### Zip"
   ]
  },
  {
   "cell_type": "code",
   "execution_count": 22,
   "metadata": {},
   "outputs": [
    {
     "name": "stdout",
     "output_type": "stream",
     "text": [
      "('a', 1)\n",
      "('b', 2)\n",
      "('c', 3)\n"
     ]
    }
   ],
   "source": [
    "letters = ['a', 'b', 'c']\n",
    "nums = [1, 2, 3]\n",
    "for letter, num in zip(letters, nums):\n",
    "    combine = (letter, num)\n",
    "    print(tuple(combine))"
   ]
  },
  {
   "cell_type": "code",
   "execution_count": 49,
   "metadata": {},
   "outputs": [
    {
     "name": "stdout",
     "output_type": "stream",
     "text": [
      "(('Pias', 'Paul'), ('Anwar', 'Azim'))\n"
     ]
    }
   ],
   "source": [
    "first_name = [\"Pias\", \"Anwar\"]\n",
    "last_name = [\"Paul\", \"Azim\"]\n",
    "# print(first_name[0] + last_name[0])\n",
    "full_name = zip(first_name, last_name)\n",
    "print(tuple(full_name))"
   ]
  },
  {
   "cell_type": "markdown",
   "metadata": {},
   "source": [
    "## Enumerate"
   ]
  },
  {
   "cell_type": "code",
   "execution_count": 23,
   "metadata": {},
   "outputs": [
    {
     "name": "stdout",
     "output_type": "stream",
     "text": [
      "(0, 'a')\n",
      "(1, 'b')\n",
      "(2, 'c')\n",
      "(3, 'd')\n",
      "(4, 'e')\n"
     ]
    }
   ],
   "source": [
    "letters = ['a', 'b', 'c', 'd', 'e']\n",
    "for letter in enumerate(letters):\n",
    "    print(letter)"
   ]
  },
  {
   "cell_type": "markdown",
   "metadata": {},
   "source": [
    "## List Comphrehension"
   ]
  },
  {
   "cell_type": "code",
   "execution_count": 24,
   "metadata": {},
   "outputs": [
    {
     "name": "stdout",
     "output_type": "stream",
     "text": [
      "['Dhaka', 'Chittagong']\n",
      "['Dhaka', 'Chittagong']\n"
     ]
    }
   ],
   "source": [
    "capitalized_cities = []\n",
    "cities = ['dhaka', 'chittagong']\n",
    "for city in cities:\n",
    "    capitalized_cities.append(city.title())\n",
    "    \n",
    "print(capitalized_cities)\n",
    "    \n",
    "capitalized_cities = [city.title() for city in cities]\n",
    "print(capitalized_cities)"
   ]
  },
  {
   "cell_type": "code",
   "execution_count": null,
   "metadata": {},
   "outputs": [],
   "source": []
  },
  {
   "cell_type": "code",
   "execution_count": 25,
   "metadata": {},
   "outputs": [
    {
     "name": "stdout",
     "output_type": "stream",
     "text": [
      "Joey Tribbiani Monica Geller Chandler Bing Phoebe Buffay\n"
     ]
    }
   ],
   "source": [
    "names = [\"Joey Tribbiani\", \"Monica Geller\", \"Chandler Bing\", \"Phoebe Buffay\"]\n",
    "name = \" \".join(str(name) for name in names)\n",
    "print(str(name))"
   ]
  },
  {
   "cell_type": "markdown",
   "metadata": {},
   "source": [
    "## Conditionals in List Comprehensions"
   ]
  },
  {
   "cell_type": "code",
   "execution_count": null,
   "metadata": {},
   "outputs": [],
   "source": [
    "squares = [x**2 for x in range(9) if x % 2 == 0]\n",
    "print(squares)"
   ]
  },
  {
   "cell_type": "code",
   "execution_count": null,
   "metadata": {},
   "outputs": [],
   "source": [
    "# squares = [x**2 for x in range(9) if x % 2 == 0 else x + 3]\n",
    "squares = [x**2 if x % 2 == 0 else x + 3 for x in range(9)]\n",
    "print(squares)"
   ]
  },
  {
   "cell_type": "markdown",
   "metadata": {},
   "source": [
    "## Lambda Expression"
   ]
  },
  {
   "cell_type": "code",
   "execution_count": null,
   "metadata": {},
   "outputs": [],
   "source": [
    "def multiply(x, y):\n",
    "    return x * y\n",
    "## Can be Reduced to\n",
    "multiply = lambda x, y: x * y"
   ]
  },
  {
   "cell_type": "markdown",
   "metadata": {},
   "source": [
    "## Error Handling"
   ]
  },
  {
   "cell_type": "code",
   "execution_count": 82,
   "metadata": {},
   "outputs": [
    {
     "name": "stdout",
     "output_type": "stream",
     "text": [
      "1\n",
      "Run Successfully\n",
      "Code Completed it's running\n"
     ]
    }
   ],
   "source": [
    "num = 6\n",
    "try:\n",
    "    ans = 10//num\n",
    "    if type(ans) is not int:\n",
    "        raise Exception(\"Answer Must be a int\")\n",
    "    else:\n",
    "        print(ans)\n",
    "        pass\n",
    "except ZeroDivisionError as ze:\n",
    "    print(\"Error is : \", ze)\n",
    "\n",
    "else:\n",
    "    print(\"Run Successfully\")\n",
    "finally:\n",
    "    print(\"Code Completed it's running\")"
   ]
  },
  {
   "cell_type": "markdown",
   "metadata": {},
   "source": [
    "#### Error Handling with file"
   ]
  },
  {
   "cell_type": "code",
   "execution_count": 90,
   "metadata": {},
   "outputs": [
    {
     "name": "stdout",
     "output_type": "stream",
     "text": [
      "[Errno 17] File exists: 'test.txt'\n"
     ]
    }
   ],
   "source": [
    "with open(\"movie_Information.txt\",'r') as f:\n",
    "    movies = f.read()\n",
    "try:\n",
    "    with open(\"test.txt\",'x') as m:\n",
    "        m.write(movies)\n",
    "except FileExistsError as fe:\n",
    "    print(fe)\n",
    "    "
   ]
  },
  {
   "cell_type": "markdown",
   "metadata": {},
   "source": [
    "## Assertion "
   ]
  },
  {
   "cell_type": "code",
   "execution_count": null,
   "metadata": {},
   "outputs": [],
   "source": [
    "def avg(marks):\n",
    "    assert len(marks) != 0\n",
    "    return sum(marks)/len(marks)\n",
    "\n",
    "mark1 = [45]\n",
    "print(\"Average of mark1:\",avg(mark1))"
   ]
  },
  {
   "cell_type": "markdown",
   "metadata": {},
   "source": [
    "## Numpy & MATPLOTLIB"
   ]
  },
  {
   "cell_type": "code",
   "execution_count": 149,
   "metadata": {},
   "outputs": [
    {
     "name": "stdout",
     "output_type": "stream",
     "text": [
      "[[36 30]\n",
      " [-1  2]]\n"
     ]
    },
    {
     "data": {
      "text/plain": [
       "[-5, 36, -5, 70]"
      ]
     },
     "execution_count": 149,
     "metadata": {},
     "output_type": "execute_result"
    },
    {
     "data": {
      "image/png": "[encoded data removed]",
      "text/plain": [
       "<Figure size 432x288 with 1 Axes>"
      ]
     },
     "metadata": {
      "needs_background": "light"
     },
     "output_type": "display_data"
    }
   ],
   "source": [
    "import matplotlib.pyplot as plt\n",
    "import matplotlib as mpl\n",
    "import numpy as np\n",
    "\n",
    "A = np.array([[3,6,7],[5,-3,0]])\n",
    "B = np.array([[1,1],[2,1], [3,3]])\n",
    "C = A.dot(B)\n",
    "print(C)\n",
    "plt.ylabel('Y Axis')\n",
    "plt.plot(C, 'bo')\n",
    "plt.axis([-5,36,-5,70]) ## xaxis-right, xaxis-left, yaxis-lower, yaxis-upper\n",
    "# plt.show()"
   ]
  },
  {
   "cell_type": "code",
   "execution_count": 130,
   "metadata": {},
   "outputs": [
    {
     "data": {
      "image/png": "[encoded data removed]",
      "text/plain": [
       "<Figure size 1368x720 with 3 Axes>"
      ]
     },
     "metadata": {
      "needs_background": "light"
     },
     "output_type": "display_data"
    }
   ],
   "source": [
    "names = ['group_a', 'group_b', 'group_c']\n",
    "values = [5, 10, 100]\n",
    "\n",
    "## This is the actual Figure\n",
    "plt.figure(figsize=(19, 10)) ## Width = 19, Height = 10\n",
    "\n",
    "## Now Subplot will draw a area of the main plot\n",
    "plt.subplot(131) ## How Much area it will take inside the main figure (compression)\n",
    "plt.bar(names, values) ## It will draw the chart as a bar figure\n",
    "plt.subplot(132)\n",
    "plt.scatter(names, values) ## It will draw the chart as a dotted figure\n",
    "plt.subplot(133)\n",
    "plt.plot(names, values) ## It will draw a line in the char\n",
    "plt.suptitle('Categorical Plotting')\n",
    "plt.show()"
   ]
  },
  {
   "cell_type": "code",
   "execution_count": null,
   "metadata": {},
   "outputs": [],
   "source": []
  }
 ],
 "metadata": {
  "kernelspec": {
   "display_name": "Python 3",
   "language": "python",
   "name": "python3"
  },
  "language_info": {
   "codemirror_mode": {
    "name": "ipython",
    "version": 3
   },
   "file_extension": ".py",
   "mimetype": "text/x-python",
   "name": "python",
   "nbconvert_exporter": "python",
   "pygments_lexer": "ipython3",
   "version": "3.6.8"
  }
 },
 "nbformat": 4,
 "nbformat_minor": 2
}
