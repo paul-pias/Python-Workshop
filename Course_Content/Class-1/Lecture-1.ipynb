{
 "cells": [
  {
   "cell_type": "markdown",
   "metadata": {},
   "source": [
    "# Python Syntax\n"
   ]
  },
  {
   "cell_type": "markdown",
   "metadata": {},
   "source": [
    "#  Hello World"
   ]
  },
  {
   "cell_type": "code",
   "execution_count": 1,
   "metadata": {},
   "outputs": [
    {
     "name": "stdout",
     "output_type": "stream",
     "text": [
      "hello world\n"
     ]
    }
   ],
   "source": [
    "print(\"hello world\")"
   ]
  },
  {
   "cell_type": "markdown",
   "metadata": {},
   "source": [
    "# Indentation"
   ]
  },
  {
   "cell_type": "markdown",
   "metadata": {},
   "source": [
    "• Most languages don’t care about indentation.<br>\n",
    "• But we tend to group similar things together to make contents more readable.<br>"
   ]
  },
  {
   "cell_type": "raw",
   "metadata": {},
   "source": [
    "//java\n",
    "if(true){\n",
    "    if(false){\n",
    "        System.out.println(\"Hello1 !\");\n",
    "}else{\n",
    "    System.out.println(\"Hello2 !\");\n",
    "}}"
   ]
  },
  {
   "cell_type": "raw",
   "metadata": {},
   "source": [
    "• The else here actually belongs to the 2nd if statement.\n",
    "• Python embraces indentation."
   ]
  },
  {
   "cell_type": "raw",
   "metadata": {},
   "source": [
    "# python\n",
    "if True:\n",
    "    if False:\n",
    "        print(\"Hello1 !\")\n",
    "    else:\n",
    "        print(\"Hello2 !\")"
   ]
  },
  {
   "cell_type": "markdown",
   "metadata": {},
   "source": [
    "# Comments"
   ]
  },
  {
   "cell_type": "code",
   "execution_count": 2,
   "metadata": {},
   "outputs": [
    {
     "data": {
      "text/plain": [
       "'\\n any string not assigned to a variable is considered comment.\\n this is an example of a multi-line comment.\\n'"
      ]
     },
     "execution_count": 2,
     "metadata": {},
     "output_type": "execute_result"
    }
   ],
   "source": [
    "#  A traditional one line comment\n",
    "\n",
    "\" this is a single line comment \"\n",
    "\n",
    "\"\"\"\n",
    " any string not assigned to a variable is considered comment.\n",
    " this is an example of a multi-line comment.\n",
    "\"\"\"\n"
   ]
  },
  {
   "cell_type": "markdown",
   "metadata": {},
   "source": [
    "# Types"
   ]
  },
  {
   "cell_type": "markdown",
   "metadata": {},
   "source": [
    "# String"
   ]
  },
  {
   "cell_type": "code",
   "execution_count": null,
   "metadata": {},
   "outputs": [],
   "source": [
    "a = \"Hey\"\n",
    "b = \"Hey there!\"\n",
    "c = \"742 Evergreen Terrace\"\n",
    "d = \"1234\"\n",
    "e = \"'How long is a piece of string?' he asked\"\n",
    "f = \"'!$*#@ you!' she replied\""
   ]
  },
  {
   "cell_type": "code",
   "execution_count": null,
   "metadata": {},
   "outputs": [],
   "source": [
    "a = \"Hey\"\n",
    "print(len(a))"
   ]
  },
  {
   "cell_type": "code",
   "execution_count": null,
   "metadata": {},
   "outputs": [],
   "source": [
    "print(1+2)\n",
    "print(\"1\"+\"2\")"
   ]
  },
  {
   "cell_type": "code",
   "execution_count": null,
   "metadata": {},
   "outputs": [],
   "source": [
    "a = \"pic123\"\n",
    "b = \"21344\"\n",
    "print (a.isnumeric())\n",
    "print (b.isnumeric())"
   ]
  },
  {
   "cell_type": "code",
   "execution_count": 182,
   "metadata": {},
   "outputs": [
    {
     "name": "stdout",
     "output_type": "stream",
     "text": [
      "Once again he asked \"How long  is \\ a piece of string?\"\n"
     ]
    }
   ],
   "source": [
    "e = \"Once again he asked \\\"How long  is \\\\ a piece of string?\\\"\"\n",
    "print(e)"
   ]
  },
  {
   "cell_type": "code",
   "execution_count": 4,
   "metadata": {},
   "outputs": [],
   "source": [
    "# This is a string\n",
    "Name = \"Ahmad Hussein (that's me) \"\n",
    "# This is also a string\n",
    "Home = 'Damascus, Syria'\n",
    "\n",
    "# This is a multi-line string\n",
    "Sites = ''' You can find me online on\n",
    "Sites like LinkedIn and Facebook.'''\n",
    "\n",
    "# This is also a multi-line string\n",
    "Bio = \"\"\" If you don’t find me online\n",
    "You can find me outside. \"\"\""
   ]
  },
  {
   "cell_type": "markdown",
   "metadata": {},
   "source": [
    "## Escape Sequence"
   ]
  },
  {
   "cell_type": "code",
   "execution_count": 173,
   "metadata": {},
   "outputs": [
    {
     "name": "stdout",
     "output_type": "stream",
     "text": [
      "ATTENTION!\n",
      "For those about to rock, we salute you!\n"
     ]
    }
   ],
   "source": [
    "msg = \"ATTENTION!\\nFor those about to rock, we salute you!\"\n",
    "print(msg)"
   ]
  },
  {
   "cell_type": "markdown",
   "metadata": {},
   "source": [
    "# Triple Quotes"
   ]
  },
  {
   "cell_type": "code",
   "execution_count": 1,
   "metadata": {},
   "outputs": [
    {
     "name": "stdout",
     "output_type": "stream",
     "text": [
      "This string\n",
      "spans\n",
      "multiple lines\n",
      "This string\n",
      "spans\n",
      "multiple lines\n"
     ]
    }
   ],
   "source": [
    "msg = \"\"\"This string\n",
    "spans\n",
    "multiple lines\"\"\"\n",
    "print(msg)\n",
    "\n",
    "msg = '''This string\n",
    "spans\n",
    "multiple lines'''\n",
    "print(msg)"
   ]
  },
  {
   "cell_type": "code",
   "execution_count": 2,
   "metadata": {},
   "outputs": [
    {
     "name": "stdout",
     "output_type": "stream",
     "text": [
      "p\n"
     ]
    }
   ],
   "source": [
    "planet = \"Jupiter\"\n",
    "print(planet[2])"
   ]
  },
  {
   "cell_type": "markdown",
   "metadata": {},
   "source": [
    "# String Formatting Operator"
   ]
  },
  {
   "cell_type": "code",
   "execution_count": 176,
   "metadata": {},
   "outputs": [
    {
     "name": "stdout",
     "output_type": "stream",
     "text": [
      "Hello Homer, you scored 3 out of 100.000000\n"
     ]
    }
   ],
   "source": [
    "print(\"Hello %s, you scored %i out of %i\" % (\"Homer\", 3, 100.00))"
   ]
  },
  {
   "cell_type": "markdown",
   "metadata": {},
   "source": [
    "# Numbers"
   ]
  },
  {
   "cell_type": "code",
   "execution_count": 5,
   "metadata": {},
   "outputs": [],
   "source": [
    "# Integer Number\n",
    "year = 2010\n",
    "year = int(\"2010\")\n",
    "\n",
    "# Floating Point Numbers\n",
    "pi = 3.14159265\n",
    "pi = float(\"3.14159265\")\n",
    "\n",
    "# Fixed Point Number\n",
    "# from decimal import Decimal\n",
    "# price = Decimal(\"2\")\n",
    "# print(price)"
   ]
  },
  {
   "cell_type": "markdown",
   "metadata": {},
   "source": [
    "# Null"
   ]
  },
  {
   "cell_type": "code",
   "execution_count": 6,
   "metadata": {},
   "outputs": [],
   "source": [
    "data = None"
   ]
  },
  {
   "cell_type": "markdown",
   "metadata": {},
   "source": [
    "# Booleans"
   ]
  },
  {
   "cell_type": "code",
   "execution_count": 7,
   "metadata": {},
   "outputs": [
    {
     "name": "stdout",
     "output_type": "stream",
     "text": [
      "None\n",
      "['c', 'd']\n"
     ]
    }
   ],
   "source": [
    "Is_python = True\n",
    "\n",
    "# Everything in python can be cast to Boolean\n",
    "Is_pyhton = bool('any object')\n",
    "\n",
    "# All of these things are equivalent to False\n",
    "These_are_false = False or 0 or \"\" or {} or [] or None\n",
    "print(These_are_false)\n",
    "\n",
    "# Most everything else is equivalent to True\n",
    "These_are_true = True and 1 and 'Text' and {'a' : 'b'} and ['c','d']\n",
    "print(These_are_true)"
   ]
  },
  {
   "cell_type": "markdown",
   "metadata": {},
   "source": [
    "# Operators"
   ]
  },
  {
   "cell_type": "markdown",
   "metadata": {},
   "source": [
    "# Arithmetic"
   ]
  },
  {
   "cell_type": "code",
   "execution_count": 8,
   "metadata": {},
   "outputs": [
    {
     "name": "stdout",
     "output_type": "stream",
     "text": [
      "11\n",
      "12\n",
      "11\n",
      "12\n",
      "10\n",
      "22\n",
      "5.5\n",
      "5\n",
      "2\n",
      "121\n"
     ]
    }
   ],
   "source": [
    "a = 11 # 11\n",
    "print(a)\n",
    "a += 1 # 12\n",
    "print(a)\n",
    "a -= 1 # 11\n",
    "print(a)\n",
    "b = a + 1 # 12\n",
    "print(b)\n",
    "c = a - 1 # 10\n",
    "print(c)\n",
    "d = a * 2 # 22\n",
    "print(d)\n",
    "e = a / 2 # 5.5\n",
    "print(e)\n",
    "m = a // 2 # 5\n",
    "print(m)\n",
    "f = a % 3 # 2\n",
    "print(f)\n",
    "g = a ** 2 # 121\n",
    "print(g)"
   ]
  },
  {
   "cell_type": "markdown",
   "metadata": {},
   "source": [
    "# String Manipulation"
   ]
  },
  {
   "cell_type": "code",
   "execution_count": 9,
   "metadata": {},
   "outputs": [
    {
     "name": "stdout",
     "output_type": "stream",
     "text": [
      "Apple, Banana, Orange\n"
     ]
    }
   ],
   "source": [
    "animals = 'Cats ' + 'Dogs '\n",
    "animals += 'Rabbits'\n",
    "# Cats Dogs Rabbits\n",
    "\n",
    "fruit = ', '.join(['Apple' , 'Banana' , 'Orange'])\n",
    "print(fruit)\n",
    "#Apple, Banana, Orange\n",
    "\n",
    "date = '%s %d %d' % ('Mar' , 20 , 2018)\n",
    "# Mar 20 2018\n",
    "\n",
    "name = '%(first)s %(last)s' % {\n",
    "'first' : 'Ahmad' ,\n",
    "'last' : 'Hussein'}\n",
    "# Ahmad Hussein"
   ]
  },
  {
   "cell_type": "markdown",
   "metadata": {},
   "source": [
    "# Logical Comparison"
   ]
  },
  {
   "cell_type": "code",
   "execution_count": 10,
   "metadata": {},
   "outputs": [
    {
     "data": {
      "text/plain": [
       "False"
      ]
     },
     "execution_count": 10,
     "metadata": {},
     "output_type": "execute_result"
    }
   ],
   "source": [
    "# Logical And\n",
    "a and b\n",
    "\n",
    "# Logical Or\n",
    "a or b\n",
    "\n",
    "# Logical Negation\n",
    "not a\n",
    "\n",
    "# Compound\n",
    "(a and not (b or c))"
   ]
  },
  {
   "cell_type": "markdown",
   "metadata": {},
   "source": [
    "# Identity Comparison"
   ]
  },
  {
   "cell_type": "code",
   "execution_count": 11,
   "metadata": {},
   "outputs": [
    {
     "data": {
      "text/plain": [
       "False"
      ]
     },
     "execution_count": 11,
     "metadata": {},
     "output_type": "execute_result"
    }
   ],
   "source": [
    "1 is 1 == True\n",
    "\n",
    "# Non Identity\n",
    "1 is not '1' == True\n",
    "\n",
    "# Example\n",
    "bool(1) == True\n",
    "bool(True) == True\n",
    "1 and True == True\n",
    "1 is True == False"
   ]
  },
  {
   "cell_type": "markdown",
   "metadata": {},
   "source": [
    "# Arithmetic Comparison"
   ]
  },
  {
   "cell_type": "code",
   "execution_count": 12,
   "metadata": {},
   "outputs": [
    {
     "data": {
      "text/plain": [
       "True"
      ]
     },
     "execution_count": 12,
     "metadata": {},
     "output_type": "execute_result"
    }
   ],
   "source": [
    "# Ordering\n",
    "a > b\n",
    "a >= b\n",
    "a < b\n",
    "a <= b\n",
    "\n",
    "# Equality / Difference\n",
    "a == b\n",
    "a != b"
   ]
  },
  {
   "cell_type": "markdown",
   "metadata": {},
   "source": [
    "## Do the following task according to the comments"
   ]
  },
  {
   "cell_type": "code",
   "execution_count": null,
   "metadata": {},
   "outputs": [],
   "source": [
    "# The current volume of a water reservoir (in cubic metres)\n",
    "reservoir_volume = 4.445e8\n",
    "# The amount of rainfall from a storm (in cubic metres)\n",
    "rainfall = 5e6\n",
    "\n",
    "# decrease the rainfall variable by 10% to account for runoff\n",
    "rainfall =\n",
    "\n",
    "# add the rainfall variable to the reservoir_volume variable\n",
    "reservoir_volume \n",
    "\n",
    "# increase reservoir_volume by 5% to account for stormwater that flows into the reservoir in the days following the storm\n",
    "reservoir_volume+=reservoir_volume*.05\n",
    "\n",
    "\n",
    "# decrease reservoir_volume by 5% to account for evaporation\n",
    "reservoir_volume =\n",
    "\n",
    "# subtract 2.5e5 cubic metres from reservoir_volume to account for water that's piped to arid regions.\n",
    "reservoir_volume = \n",
    "\n",
    "# print the new value of the reservoir_volume variable\n",
    "print(reservoir_volume)"
   ]
  },
  {
   "cell_type": "markdown",
   "metadata": {},
   "source": [
    "## Task - 1"
   ]
  },
  {
   "cell_type": "raw",
   "metadata": {},
   "source": [
    "Read two integers and print two lines. The first line should contain \n",
    "    integer division, // . The second line should contain float division, /\n",
    "\n",
    "    You don't need to perform any rounding or formatting operations.\n",
    "\n",
    "Input Format:\n",
    "\n",
    "    The first line contains the first integer,\n",
    "    The second line contains the second integer,\n",
    "\n",
    "Output Format :\n",
    "\n",
    "    Print the two lines as described above.\n",
    "\n",
    "Sample Input :\n",
    "\n",
    "4\n",
    "3\n",
    "\n",
    "Sample Output :\n",
    "\n",
    "1\n",
    "1.33333333333\n",
    "\n",
    "\n",
    "\n",
    "\n",
    "<h4>Answer Below,</h4>"
   ]
  },
  {
   "cell_type": "markdown",
   "metadata": {},
   "source": [
    "# Task 2"
   ]
  },
  {
   "cell_type": "raw",
   "metadata": {},
   "source": [
    "Read two integers from STDIN and print three lines where :\n",
    "\n",
    "    The first line contains the sum of the two numbers.\n",
    "    The second line contains the difference of the two numbers \n",
    "    (first - second).\n",
    "    The third line contains the product of the two numbers.\n",
    "\n",
    "Input Format :\n",
    "\n",
    "    The first line contains the first integer,\n",
    "    The second line contains the second integer,\n",
    "\n",
    "Output Format :\n",
    "\n",
    "    Print the three lines as explained above.\n",
    "\n",
    "Sample Input :\n",
    "\n",
    "3\n",
    "2\n",
    "\n",
    "Sample Output :\n",
    "\n",
    "5\n",
    "1\n",
    "6\n",
    "\n",
    "Explanation :\n",
    "\n",
    "3+2=> 5\n",
    "3-2=> 1\n",
    "3*2=> 6"
   ]
  }
 ],
 "metadata": {
  "kernelspec": {
   "display_name": "Python 3",
   "language": "python",
   "name": "python3"
  },
  "language_info": {
   "codemirror_mode": {
    "name": "ipython",
    "version": 3
   },
   "file_extension": ".py",
   "mimetype": "text/x-python",
   "name": "python",
   "nbconvert_exporter": "python",
   "pygments_lexer": "ipython3",
   "version": "3.6.8"
  }
 },
 "nbformat": 4,
 "nbformat_minor": 2
}
