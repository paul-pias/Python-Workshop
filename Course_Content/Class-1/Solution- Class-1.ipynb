{
 "cells": [
  {
   "cell_type": "markdown",
   "metadata": {},
   "source": [
    "## Problem – 1: Average Electricity Bill"
   ]
  },
  {
   "cell_type": "code",
   "execution_count": 5,
   "metadata": {},
   "outputs": [
    {
     "name": "stdout",
     "output_type": "stream",
     "text": [
      "Average Electricity Bill for the 3 months is :39.666666666666664\n"
     ]
    }
   ],
   "source": [
    "jan = 23\n",
    "feb = 32\n",
    "mar = 64\n",
    "print(\"Average Electricity Bill for the 3 months is :\" + str((jan+feb+mar)/3))"
   ]
  },
  {
   "cell_type": "markdown",
   "metadata": {},
   "source": [
    "## Problem – 2: Required Tiles"
   ]
  },
  {
   "cell_type": "code",
   "execution_count": 7,
   "metadata": {},
   "outputs": [
    {
     "name": "stdout",
     "output_type": "stream",
     "text": [
      "Tiles Required 98\n",
      "4 Tiles left after construction\n"
     ]
    }
   ],
   "source": [
    "# Fill this in with an expression that calculates how many tiles are needed.\n",
    "area_of_one_part = 9*7\n",
    "area_of_another_part = 5*7\n",
    "Total_titles_required = area_of_one_part + area_of_another_part\n",
    "print(\"Tiles Required {}\".format(Total_titles_required))\n",
    "\n",
    "# Fill this in with an expression that calculates how many tiles will be left over.\n",
    "tiles_bought = 17*6\n",
    "print(\"{} Tiles left after construction\".format(tiles_bought - Total_titles_required))"
   ]
  },
  {
   "cell_type": "markdown",
   "metadata": {},
   "source": [
    "## Problem – 3: "
   ]
  },
  {
   "cell_type": "code",
   "execution_count": 13,
   "metadata": {},
   "outputs": [
    {
     "name": "stdout",
     "output_type": "stream",
     "text": [
      "5\n",
      "7\n",
      "Sum of the num1 : 5 and num2 : 7 is : 12\n",
      "Subtraction of the num1 : 5 and num2 : 7 is : -2\n",
      "Multiplication of the num1 : 5 and num2 : 7 is : 35\n"
     ]
    }
   ],
   "source": [
    "num1, num2 = int(input()),int(input())\n",
    "summation = num1 + num2\n",
    "print(\"Sum of the num1 : {} and num2 : {} is : {}\".format(num1,num2,summation))\n",
    "subtraction = num1 - num2\n",
    "print(\"Subtraction of the num1 : {} and num2 : {} is : {}\".format(num1,num2,subtraction))\n",
    "multiplication = num1 * num2\n",
    "print(\"Multiplication of the num1 : {} and num2 : {} is : {}\".format(num1,num2,multiplication))"
   ]
  },
  {
   "cell_type": "markdown",
   "metadata": {},
   "source": [
    "## Problem – 4: Which city is denser, Chittagong or Sylhet?"
   ]
  },
  {
   "cell_type": "code",
   "execution_count": 16,
   "metadata": {},
   "outputs": [
    {
     "name": "stdout",
     "output_type": "stream",
     "text": [
      "True\n",
      "Population density is greater in Sylhet\n"
     ]
    }
   ],
   "source": [
    "area_cht, population_cht = 161.8 , 12.1e6\n",
    "area_syl, population_syl = 26.8 , 2.592e6\n",
    "\n",
    "population_density_cht = population_cht / area_cht\n",
    "population_density_syl = population_syl / area_syl\n",
    "\n",
    "print(population_density_cht<population_density_syl)\n",
    "print(\"Population density is greater in Sylhet\")"
   ]
  },
  {
   "cell_type": "markdown",
   "metadata": {},
   "source": [
    "## Problem – 5: Write a Server Log Message"
   ]
  },
  {
   "cell_type": "code",
   "execution_count": 17,
   "metadata": {},
   "outputs": [
    {
     "name": "stdout",
     "output_type": "stream",
     "text": [
      "Anik accessed the site http://www.northsouth.edu at 05:30 pm\n"
     ]
    }
   ],
   "source": [
    "user_name = \"Anik\"\n",
    "url = \"http://www.northsouth.edu\"\n",
    "time_stamp = \"05:30 pm\"\n",
    "print(\"{} accessed the site {} at {}\".format(user_name,url,time_stamp))"
   ]
  },
  {
   "cell_type": "markdown",
   "metadata": {},
   "source": [
    "## Problem – 6: String Methods"
   ]
  },
  {
   "cell_type": "code",
   "execution_count": 23,
   "metadata": {},
   "outputs": [
    {
     "name": "stdout",
     "output_type": "stream",
     "text": [
      "Length of the string varibale verse is : 362\n",
      "The index of the first occurrence of the word 'and' in verse is : 65\n",
      "The index of the last occurrence of the word 'you' in verse is : 186\n",
      "Count of the occurrences of the word 'you' in verse is : 8\n"
     ]
    }
   ],
   "source": [
    "verse = \"If you can keep your head when all about you\\n  Are losing theirs and blaming it on you,\\nIf you can trust yourself when all men doubt you,\\n  But make allowance for their doubting too;\\nIf you can wait and not be tired by waiting,\\n  Or being lied about, don’t deal in lies,\\nOr being hated, don’t give way to hating,\\n  And yet don’t look too good, nor talk too wise:\"\n",
    "\n",
    "print(\"Length of the string varibale verse is : {}\".format(len(verse)))\n",
    "print(\"The index of the first occurrence of the word 'and' in verse is : {}\".format(verse.find('and')))\n",
    "print(\"The index of the last occurrence of the word 'you' in verse is : {}\".format(verse.rfind('you')))\n",
    "print(\"Count of the occurrences of the word 'you' in verse is : {}\".format(verse.count('you')))\n",
    "\n"
   ]
  },
  {
   "cell_type": "code",
   "execution_count": null,
   "metadata": {},
   "outputs": [],
   "source": []
  }
 ],
 "metadata": {
  "kernelspec": {
   "display_name": "Python 3",
   "language": "python",
   "name": "python3"
  },
  "language_info": {
   "codemirror_mode": {
    "name": "ipython",
    "version": 3
   },
   "file_extension": ".py",
   "mimetype": "text/x-python",
   "name": "python",
   "nbconvert_exporter": "python",
   "pygments_lexer": "ipython3",
   "version": "3.6.8"
  }
 },
 "nbformat": 4,
 "nbformat_minor": 2
}
