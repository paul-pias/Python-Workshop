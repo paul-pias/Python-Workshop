{
 "cells": [
  {
   "cell_type": "markdown",
   "metadata": {},
   "source": [
    "## Lists\n"
   ]
  },
  {
   "cell_type": "markdown",
   "metadata": {},
   "source": [
    "## List Methods"
   ]
  },
  {
   "cell_type": "code",
   "execution_count": 176,
   "metadata": {},
   "outputs": [
    {
     "name": "stdout",
     "output_type": "stream",
     "text": [
      "[42]\n",
      "[42, 'Python', True]\n",
      "[42, 'Python', True]\n",
      "['Python', True]\n",
      "1\n",
      "[True]\n",
      "[72, 42, True]\n",
      "[]\n",
      "[72, 42, True]\n",
      "[72, True]\n"
     ]
    }
   ],
   "source": [
    "# Lists can be heterogenous\n",
    "favorites = []\n",
    "\n",
    "# Appending\n",
    "favorites.append(42)\n",
    "print(favorites)\n",
    "\n",
    "# Extending\n",
    "favorites.extend(['Python' , True])\n",
    "print(favorites)\n",
    "\n",
    "# Equivalent to\n",
    "favorites = [42 , 'Python' , True]\n",
    "print(favorites)\n",
    "\n",
    "# favorites = favorites.sort()\n",
    "# print(favorites)\n",
    "# print(favorites.reverse())\n",
    "# print(favorites)\n",
    "\n",
    "favorites.pop(0)\n",
    "print(favorites)\n",
    "\n",
    "print(favorites.index(True))\n",
    "\n",
    "favorites.remove('Python')\n",
    "print(favorites)\n",
    "\n",
    "favorites.insert(0,42)\n",
    "favorites.insert(0,72)\n",
    "print(favorites)\n",
    "\n",
    "new_favorites = []\n",
    "new_favorites = favorites.copy()\n",
    "favorites.clear()\n",
    "print(favorites)\n",
    "print(new_favorites)\n",
    "\n",
    "new_favorites.remove(42)\n",
    "print(new_favorites)\n"
   ]
  },
  {
   "cell_type": "markdown",
   "metadata": {},
   "source": [
    "## Multi-dimentional List"
   ]
  },
  {
   "cell_type": "code",
   "execution_count": 216,
   "metadata": {},
   "outputs": [
    {
     "name": "stdout",
     "output_type": "stream",
     "text": [
      "MAT250\n"
     ]
    }
   ],
   "source": [
    "student = [[\"Sujit\",[\"15120245\",3.14,8,[\"CSE215\",\"MAT250\"]]],\n",
    "              [\"Ali\",[\"1212563\"]],\n",
    "              [\"\",[\"Bad\"]]\n",
    "          ]\n",
    "print(student[0][1][3][1])"
   ]
  },
  {
   "cell_type": "markdown",
   "metadata": {},
   "source": [
    "## Tuple"
   ]
  },
  {
   "cell_type": "markdown",
   "metadata": {},
   "source": [
    "## Tuple Variable Declaration"
   ]
  },
  {
   "cell_type": "code",
   "execution_count": 170,
   "metadata": {},
   "outputs": [
    {
     "name": "stdout",
     "output_type": "stream",
     "text": [
      "Latitude: 13.4125\n",
      "Longitude: 103.866667\n"
     ]
    }
   ],
   "source": [
    "location = (13.4125, 103.866667)\n",
    "# location[0] = 14.45\n",
    "\n",
    "print(\"Latitude:\", location[0])\n",
    "print(\"Longitude:\", location[1])"
   ]
  },
  {
   "cell_type": "markdown",
   "metadata": {},
   "source": [
    "## Tuples packing and unpacking"
   ]
  },
  {
   "cell_type": "code",
   "execution_count": 186,
   "metadata": {},
   "outputs": [
    {
     "name": "stdout",
     "output_type": "stream",
     "text": [
      "(52, 40, 100)\n",
      "The dimensions are 52 x 40 x 100\n"
     ]
    }
   ],
   "source": [
    "dimensions = 52, 40, 100\n",
    "print((dimensions))\n",
    "length, width, height = dimensions\n",
    "# print(type(length))\n",
    "print(\"The dimensions are {} x {} x {}\".format(dimensions[0],dimensions[1], dimensions[2]))"
   ]
  },
  {
   "cell_type": "code",
   "execution_count": 131,
   "metadata": {},
   "outputs": [
    {
     "name": "stdout",
     "output_type": "stream",
     "text": [
      "True\n",
      "2\n"
     ]
    }
   ],
   "source": [
    "# What would the output of the following code be? \n",
    "tuple_a = 1, 2\n",
    "tuple_b = (1, 2)\n",
    "\n",
    "print(tuple_a == tuple_b)\n",
    "print(tuple_a[1])\n"
   ]
  },
  {
   "cell_type": "code",
   "execution_count": 174,
   "metadata": {},
   "outputs": [
    {
     "name": "stdout",
     "output_type": "stream",
     "text": [
      "(4, 2, 3, [9, 5])\n",
      "('p', 'r', 'o', 'g', 'r', 'a', 'm', 'i', 'z')\n",
      "(1, 2, 3, 4, 5, 6)\n",
      "('Repeat', 'Repeat', 'Repeat')\n",
      "('p', 'r', 'o', 'g', 'r', 'a', 'm', 'l', 'z')\n",
      "1\n",
      "7\n"
     ]
    }
   ],
   "source": [
    "my_tuple = (4, 2, 3, [6, 5])\n",
    "# my_tuple[1] = 9\n",
    "my_tuple[3][0] = 9    # Output: (4, 2, 3, [9, 5])\n",
    "print(my_tuple)\n",
    "# Tuples can be reassigned\n",
    "my_tuple = ('p','r','o','g','r','a','m','i','z')\n",
    "\n",
    "# Output: ('p', 'r', 'o', 'g', 'r', 'a', 'm', 'i', 'z')\n",
    "print(my_tuple)\n",
    "\n",
    "\n",
    "# Concatenation\n",
    "# Output: (1, 2, 3, 4, 5, 6)\n",
    "print((1, 2, 3) + (4, 5, 6))\n",
    "\n",
    "# Repeat\n",
    "# Output: ('Repeat', 'Repeat', 'Repeat')\n",
    "print((\"Repeat\",) * 3)\n",
    "\n",
    "my_tuple = ('p','r','o','g','r','a','m','l','z')\n",
    "\n",
    "# can't delete items\n",
    "# TypeError: 'tuple' object doesn't support item deletion\n",
    "# del my_tuple[3]\n",
    "\n",
    "# Can delete an entire tuple\n",
    "del my_tuple\n",
    "\n",
    "# NameError: name 'my_tuple' is not defined\n",
    "print(my_tuple)\n",
    "\n",
    "\n",
    "print(my_tuple.count('p'))  # Output: 2\n",
    "print(my_tuple.index('l'))  # Output: 3"
   ]
  },
  {
   "cell_type": "markdown",
   "metadata": {},
   "source": [
    "## Set"
   ]
  },
  {
   "cell_type": "code",
   "execution_count": 298,
   "metadata": {},
   "outputs": [
    {
     "name": "stdout",
     "output_type": "stream",
     "text": [
      "11\n",
      "{1, 2, 3, 6}\n"
     ]
    }
   ],
   "source": [
    "numbers = [1, 2, 6, 3, 1, 1, 6]\n",
    "# print(type(numbers))\n",
    "print(sum(numbers[-4:]))\n",
    "unique_nums = set(numbers)\n",
    "print(unique_nums)"
   ]
  },
  {
   "cell_type": "markdown",
   "metadata": {},
   "source": [
    "## Update a set"
   ]
  },
  {
   "cell_type": "code",
   "execution_count": 299,
   "metadata": {},
   "outputs": [
    {
     "name": "stdout",
     "output_type": "stream",
     "text": [
      "{1, 2, 3, 'apple', 'cherry', 6, 'banana'}\n"
     ]
    }
   ],
   "source": [
    "fruits = {\"apple\", \"banana\", \"cherry\"}\n",
    "unique_nums.update(fruits)\n",
    "print(unique_nums)"
   ]
  },
  {
   "cell_type": "markdown",
   "metadata": {},
   "source": [
    "## Remove item from the set"
   ]
  },
  {
   "cell_type": "code",
   "execution_count": 148,
   "metadata": {},
   "outputs": [
    {
     "name": "stdout",
     "output_type": "stream",
     "text": [
      "{1, 2, 3, 'cherry', 6, 'banana'}\n"
     ]
    }
   ],
   "source": [
    "unique_nums.remove(\"apple\")\n",
    "print(unique_nums)"
   ]
  },
  {
   "cell_type": "markdown",
   "metadata": {},
   "source": [
    "## Pop items from the set"
   ]
  },
  {
   "cell_type": "code",
   "execution_count": 149,
   "metadata": {},
   "outputs": [
    {
     "name": "stdout",
     "output_type": "stream",
     "text": [
      "1\n",
      "{2, 3, 'cherry', 6, 'banana'}\n"
     ]
    }
   ],
   "source": [
    "x = unique_nums.pop()\n",
    "print(x)\n",
    "print(unique_nums)"
   ]
  },
  {
   "cell_type": "markdown",
   "metadata": {},
   "source": [
    "## Clear items from the set"
   ]
  },
  {
   "cell_type": "code",
   "execution_count": 150,
   "metadata": {},
   "outputs": [
    {
     "name": "stdout",
     "output_type": "stream",
     "text": [
      "set()\n"
     ]
    }
   ],
   "source": [
    "unique_nums.clear()\n",
    "print(unique_nums)"
   ]
  },
  {
   "cell_type": "markdown",
   "metadata": {},
   "source": [
    "## Delete the set"
   ]
  },
  {
   "cell_type": "code",
   "execution_count": 151,
   "metadata": {},
   "outputs": [],
   "source": [
    "del unique_nums\n",
    "# print(unique_nums)"
   ]
  },
  {
   "cell_type": "code",
   "execution_count": 300,
   "metadata": {},
   "outputs": [
    {
     "name": "stdout",
     "output_type": "stream",
     "text": [
      "{'apple', 'cherry', 'banana'}\n"
     ]
    }
   ],
   "source": [
    "thisset = set((\"apple\", \"banana\", \"cherry\")) # note the double round-brackets\n",
    "print(thisset)"
   ]
  },
  {
   "cell_type": "markdown",
   "metadata": {},
   "source": [
    "## Difference between two sets"
   ]
  },
  {
   "cell_type": "code",
   "execution_count": 301,
   "metadata": {},
   "outputs": [
    {
     "data": {
      "text/plain": [
       "{1, 2, 3, 6}"
      ]
     },
     "execution_count": 301,
     "metadata": {},
     "output_type": "execute_result"
    }
   ],
   "source": [
    "unique_nums.difference(thisset)"
   ]
  },
  {
   "cell_type": "code",
   "execution_count": 233,
   "metadata": {},
   "outputs": [
    {
     "name": "stdout",
     "output_type": "stream",
     "text": [
      "False\n",
      "{'orange', 'apple', 'watermelon', 'grapefruit', 'banana'}\n",
      "orange\n",
      "{'apple', 'watermelon', 'grapefruit', 'banana'}\n"
     ]
    }
   ],
   "source": [
    "fruit = {\"apple\", \"banana\", \"orange\", \"grapefruit\"}  # define a set\n",
    "\n",
    "print(\"watermelon\" in fruit)  # check for element\n",
    "\n",
    "fruit.add(\"watermelon\")  # add an element\n",
    "print(fruit)\n",
    "\n",
    "print(fruit.pop())  # remove a random element\n",
    "print(fruit)"
   ]
  },
  {
   "cell_type": "markdown",
   "metadata": {},
   "source": [
    "## Dictionaries"
   ]
  },
  {
   "cell_type": "code",
   "execution_count": null,
   "metadata": {},
   "outputs": [],
   "source": [
    "population = {'Shanghai' : 17.8, 'Istanbul' : 13.3, 'Karachi' : 13.0, 'Mumbai' : 12.5}\n",
    "# population.clear()\n",
    "# population.pop('Shanghai')\n",
    "# print(type(population.keys()))\n",
    "population.update()\n",
    "print(population)"
   ]
  },
  {
   "cell_type": "code",
   "execution_count": 166,
   "metadata": {},
   "outputs": [
    {
     "name": "stdout",
     "output_type": "stream",
     "text": [
      "{'brand': 'Ford', 'model': 'Mustang', 'year': 1964}\n"
     ]
    }
   ],
   "source": [
    "car = {\n",
    "  \"brand\": \"Ford\",\n",
    "  \"model\": \"Mustang\",\n",
    "  \"year\": 1964\n",
    "}\n",
    "\n",
    "x = car.setdefault(\"model\", \"Bronco\")\n",
    "print(car)"
   ]
  },
  {
   "cell_type": "markdown",
   "metadata": {},
   "source": [
    "##  Nested Dictionaries\n"
   ]
  },
  {
   "cell_type": "code",
   "execution_count": null,
   "metadata": {},
   "outputs": [],
   "source": [
    "student = {1420412 : \"Shahin\", 1223001 : \"Sharif\", 1510231 : \"Asif\", 1712562 : \"Nahian\"}\n",
    "print(student)\n",
    "student[1420412] = {'name' : \"Shahin\", 'cgpa' : 2.78}\n",
    "print(student)"
   ]
  },
  {
   "cell_type": "markdown",
   "metadata": {},
   "source": [
    "## Common Methods"
   ]
  },
  {
   "cell_type": "code",
   "execution_count": 270,
   "metadata": {},
   "outputs": [
    {
     "name": "stdout",
     "output_type": "stream",
     "text": [
      "3\n",
      "['blue', 'green', 'red']\n",
      "None\n"
     ]
    }
   ],
   "source": [
    "# colors = ['red', 'blue', 'red', 'green', 'blue', 'blue']\n",
    "# colors = ('red', 'blue', 'red', 'green', 'blue', 'blue')\n",
    "colors = {'red', 'blue', 'red', 'green', 'blue', 'blue'}\n",
    "print(len(colors))\n",
    "print(sorted(colors))  ## Slicing the variable\n",
    "# print(colors[::-1])  ## Cannot use reversing the set\n",
    "print(colors.clear())  ## Cannot use clear ontuple"
   ]
  },
  {
   "cell_type": "markdown",
   "metadata": {},
   "source": [
    "## Sum method in List and Tuple"
   ]
  },
  {
   "cell_type": "code",
   "execution_count": null,
   "metadata": {},
   "outputs": [],
   "source": [
    "numbers = [1, 2, 6, 3, 1, 1, 6]\n",
    "# print(type(numbers))\n",
    "print(sum(numbers[-4:]))\n",
    "unique_nums = set(numbers)\n",
    "print(unique_nums)"
   ]
  },
  {
   "cell_type": "markdown",
   "metadata": {},
   "source": [
    "## Examples"
   ]
  },
  {
   "cell_type": "code",
   "execution_count": null,
   "metadata": {},
   "outputs": [],
   "source": [
    "a = [22, 2, 2, 3, 3, 3, 4, 4, 4, 4]\n",
    "a.pop(0) ## Pop function works using index in list\n",
    "print(a)\n",
    "\n",
    "b = set(a) ## Convert the list into set\n",
    "print(b)\n",
    "\n",
    "b.add(5) ## Add a new value to set\n",
    "b.pop()  ## Pop deletes the first value on the set\n",
    "print(b)"
   ]
  },
  {
   "cell_type": "markdown",
   "metadata": {},
   "source": [
    "## If-Else\n"
   ]
  },
  {
   "cell_type": "code",
   "execution_count": null,
   "metadata": {},
   "outputs": [],
   "source": [
    "answer = 50\n",
    "guess = 5\n",
    "\n",
    "if guess < answer:\n",
    "    result = \"Your guess was too low.\"\n",
    "    \n",
    "elif guess > answer:\n",
    "    result = \"Your guess was too high.\"\n",
    "elif guess == answer:\n",
    "    result = \"Nice!  Your guess matched the answer!\"\n",
    "else:\n",
    "    result = \"Invalid Input\"\n",
    "print(result)"
   ]
  },
  {
   "cell_type": "code",
   "execution_count": 260,
   "metadata": {},
   "outputs": [
    {
     "name": "stdout",
     "output_type": "stream",
     "text": [
      "['blue', 'blue', 'blue', 'green', 'red', 'red']\n",
      "['red', 'blue', 'red', 'green', 'blue', 'blue']\n"
     ]
    }
   ],
   "source": [
    "colors = ['red', 'blue', 'red', 'green', 'blue', 'blue']\n",
    "# colors = ('red', 'blue', 'red', 'green', 'blue', 'blue')\n",
    "# colors = {'red', 'blue', 'red', 'green', 'blue', 'blue'}\n",
    "\n",
    "if 'white' in colors:\n",
    "    pass\n",
    "else:\n",
    "#     colors.append('white')\n",
    "#     colors + tuple('white')\n",
    "#     colors.add('white')\n",
    "    \n",
    "    print(colors)"
   ]
  },
  {
   "cell_type": "code",
   "execution_count": 26,
   "metadata": {},
   "outputs": [
    {
     "name": "stdout",
     "output_type": "stream",
     "text": [
      "{'red': 1, 'green': 1, 'blue': 1}\n"
     ]
    }
   ],
   "source": [
    "colors = {'red', 'blue', 'red', 'green', 'blue', 'blue'}\n",
    "\n",
    "count = {}\n",
    "for color in colors:\n",
    "    if color not in count:\n",
    "        count[color] = 1\n",
    "    else:\n",
    "        count[color] += 1\n",
    "print(count)"
   ]
  },
  {
   "cell_type": "code",
   "execution_count": 27,
   "metadata": {},
   "outputs": [
    {
     "name": "stdout",
     "output_type": "stream",
     "text": [
      "{'great': 2, 'expectations': 1, 'the': 2, 'adventures': 2, 'of': 2, 'sherlock': 1, 'holmes': 1, 'gasby': 1, 'hamlet': 1, 'huckleberry': 1, 'fin': 1}\n"
     ]
    }
   ],
   "source": [
    "book_title=['great', 'expectations' , 'the', 'adventures', 'of', 'sherlock','holmes','the','great','gasby','hamlet','adventures','of','huckleberry','fin']\n",
    "word_counter = {}\n",
    "for word in book_title:\n",
    "    word_counter[word] = word_counter.get(word, 0) + 1\n",
    "print(word_counter)"
   ]
  },
  {
   "cell_type": "markdown",
   "metadata": {},
   "source": [
    "## For Loop"
   ]
  },
  {
   "cell_type": "code",
   "execution_count": 250,
   "metadata": {
    "scrolled": true
   },
   "outputs": [
    {
     "name": "stdout",
     "output_type": "stream",
     "text": [
      "the\n",
      "quick\n",
      "brown\n",
      "fox\n",
      "jumped\n",
      "over\n",
      "the\n",
      "lazy\n",
      "dog\n"
     ]
    }
   ],
   "source": [
    "sentence = [\"the\", \"quick\", \"brown\", \"fox\", \"jumped\", \"over\", \"the\", \"lazy\", \"dog\"]\n",
    "for sen in sentence:\n",
    "    print(sen)"
   ]
  },
  {
   "cell_type": "markdown",
   "metadata": {},
   "source": [
    "## Multiples of 5"
   ]
  },
  {
   "cell_type": "code",
   "execution_count": null,
   "metadata": {},
   "outputs": [],
   "source": [
    "for i in range(5,31):\n",
    "    if i%5==0:\n",
    "        print(i)"
   ]
  },
  {
   "cell_type": "code",
   "execution_count": 273,
   "metadata": {},
   "outputs": [
    {
     "name": "stdout",
     "output_type": "stream",
     "text": [
      "['red', 'blue', 'green', 'purple']\n"
     ]
    }
   ],
   "source": [
    "colors = ['Red', 'Blue', 'Green', 'Purple']\n",
    "lower_colors = [ ]\n",
    "\n",
    "for color in colors:\n",
    "    lower_colors.append(color.lower())\n",
    "print(lower_colors)"
   ]
  },
  {
   "cell_type": "markdown",
   "metadata": {},
   "source": [
    "## List to String"
   ]
  },
  {
   "cell_type": "code",
   "execution_count": 237,
   "metadata": {},
   "outputs": [
    {
     "name": "stdout",
     "output_type": "stream",
     "text": [
      "Joey Tribbiani Monica Geller Chandler Bing Phoebe Buffay\n"
     ]
    }
   ],
   "source": [
    "names = [\"Joey Tribbiani\", \"Monica Geller\", \"Chandler Bing\", \"Phoebe Buffay\"]\n",
    "name = \" \".join(names)\n",
    "print(str(name))"
   ]
  },
  {
   "cell_type": "markdown",
   "metadata": {},
   "source": [
    "## Combine two dictionaries"
   ]
  },
  {
   "cell_type": "code",
   "execution_count": 29,
   "metadata": {},
   "outputs": [
    {
     "name": "stdout",
     "output_type": "stream",
     "text": [
      "{'Ritika': 5, 'Sam': 20, 'John': 10, 'Aadi': 8, 'Mark': 11}\n"
     ]
    },
    {
     "data": {
      "text/plain": [
       "OrderedDict([('Ritika', 5),\n",
       "             ('Sam', [20, 7]),\n",
       "             ('John', 10),\n",
       "             ('Aadi', 8),\n",
       "             ('Mark', 11)])"
      ]
     },
     "execution_count": 29,
     "metadata": {},
     "output_type": "execute_result"
    }
   ],
   "source": [
    "# Merge two dictionaries and add values of common key\n",
    "from collections import OrderedDict\n",
    "# Create first dictionary\n",
    "dict1 = {  'Ritika': 5, 'Sam': 7, 'John' : 10 }\n",
    "# Create second dictionary\n",
    "dict2 = {'Aadi': 8,'Sam': 20,'Mark' : 11 }\n",
    "dict3 = {**dict1, **dict2}\n",
    "print(dict3)\n",
    "for key, value in dict3.items():\n",
    "       if key in dict1 and key in dict2:\n",
    "               dict3[key] = [value , dict1[key]]\n",
    "\n",
    "\n",
    "OrderedDict(**dict3)"
   ]
  },
  {
   "cell_type": "markdown",
   "metadata": {},
   "source": [
    "## Sum of first 5 numbers"
   ]
  },
  {
   "cell_type": "code",
   "execution_count": 82,
   "metadata": {},
   "outputs": [
    {
     "name": "stdout",
     "output_type": "stream",
     "text": [
      "Sum of first  5 integers is:  15\n"
     ]
    }
   ],
   "source": [
    "numbers = (1, 2, 3, 4, 5, 6, 7, 8, 9) # Declaring the tuple\n",
    "num_sum = 0\n",
    "count = 0\n",
    "for x in numbers:\n",
    "    num_sum = num_sum + x\n",
    "    count = count + 1 \n",
    "    if count == 5:\n",
    "        break\n",
    "print(\"Sum of first \",count,\"integers is: \", num_sum)"
   ]
  }
 ],
 "metadata": {
  "kernelspec": {
   "display_name": "Python 3",
   "language": "python",
   "name": "python3"
  },
  "language_info": {
   "codemirror_mode": {
    "name": "ipython",
    "version": 3
   },
   "file_extension": ".py",
   "mimetype": "text/x-python",
   "name": "python",
   "nbconvert_exporter": "python",
   "pygments_lexer": "ipython3",
   "version": "3.6.8"
  }
 },
 "nbformat": 4,
 "nbformat_minor": 2
}
