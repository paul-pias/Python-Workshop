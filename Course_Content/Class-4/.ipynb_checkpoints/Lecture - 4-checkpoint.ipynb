{
 "cells": [
  {
   "cell_type": "markdown",
   "metadata": {},
   "source": [
    "## User_Name"
   ]
  },
  {
   "cell_type": "code",
   "execution_count": 1,
   "metadata": {},
   "outputs": [
    {
     "name": "stdout",
     "output_type": "stream",
     "text": [
      "['joey_tribbiani', 'monica_geller', 'chandler_bing', 'phoebe_buffay']\n"
     ]
    }
   ],
   "source": [
    "names = [\"Joey Tribbiani\", \"Monica Geller\", \"Chandler Bing\", \"Phoebe Buffay\"]\n",
    "usernames = []\n",
    "\n",
    "# write your for loop here\n",
    "for name in names:\n",
    "    name=name.lower()\n",
    "    name= name.replace(\" \",\"_\")\n",
    "    usernames.append(name)\n",
    "\n",
    "print(usernames)"
   ]
  },
  {
   "cell_type": "code",
   "execution_count": 2,
   "metadata": {},
   "outputs": [
    {
     "name": "stdout",
     "output_type": "stream",
     "text": [
      "['joey_tribbiani', 'monica_geller', 'chandler_bing', 'phoebe_buffay']\n"
     ]
    }
   ],
   "source": [
    "usernames = [\"Joey Tribbiani\", \"Monica Geller\", \"Chandler Bing\", \"Phoebe Buffay\"]\n",
    "\n",
    "# write your for loop here\n",
    "\n",
    "for name in range((len(usernames))):\n",
    "    # print(type(name))\n",
    "    usernames[name] = usernames[name].lower().replace(\" \", \"_\")\n",
    "    \n",
    "print(usernames)"
   ]
  },
  {
   "cell_type": "code",
   "execution_count": 5,
   "metadata": {},
   "outputs": [
    {
     "name": "stdout",
     "output_type": "stream",
     "text": [
      "['joey_tribbiani', 'monica_geller', 'chandler_bing', 'phoebe_buffay']\n"
     ]
    }
   ],
   "source": [
    "names = [\"Joey Tribbiani\", \"Monica Geller\", \"Chandler Bing\", \"Phoebe Buffay\"]\n",
    "usernames = []\n",
    "\n",
    "for name in names:\n",
    "#     name \n",
    "    names[names.index(name)]= name.lower().replace(\" \", \"_\")\n",
    "#     print(name)\n",
    "    n = name.split(\" \")\n",
    "    username = n[0].lower() + \"_\" + n[1].lower()\n",
    "    usernames.append(username)\n",
    "        \n",
    "print(names)"
   ]
  },
  {
   "cell_type": "markdown",
   "metadata": {},
   "source": [
    "## Iterating through dictionaries"
   ]
  },
  {
   "cell_type": "code",
   "execution_count": 6,
   "metadata": {},
   "outputs": [
    {
     "name": "stdout",
     "output_type": "stream",
     "text": [
      "fruit apples : Value 4 \n",
      "fruit oranges : Value 19 \n",
      "23\n"
     ]
    }
   ],
   "source": [
    "result = 0\n",
    "basket_items = {'apples': 4, 'oranges': 19, 'kites': 3, 'sandwiches': 8}\n",
    "fruits = ['apples', 'oranges', 'pears', 'peaches', 'grapes', 'bananas']\n",
    "\n",
    "for fruit in fruits:\n",
    "        for name, value in basket_items.items():\n",
    "            if fruit in name:\n",
    "                result+= value\n",
    "                print(\"fruit {} : Value {} \".format(name,value))\n",
    "\n",
    "print(result)"
   ]
  },
  {
   "cell_type": "markdown",
   "metadata": {},
   "source": [
    "## While Loop"
   ]
  },
  {
   "cell_type": "code",
   "execution_count": 7,
   "metadata": {},
   "outputs": [
    {
     "name": "stdout",
     "output_type": "stream",
     "text": [
      "720\n"
     ]
    }
   ],
   "source": [
    "# number to find the factorial of\n",
    "number = 6   \n",
    "\n",
    "# start with our product equal to one\n",
    "product = 1\n",
    "\n",
    "# track the current number being multiplied\n",
    "current = 1\n",
    "\n",
    "# write your while loop here\n",
    "while (current<=number):\n",
    "    product *= current\n",
    "    # print(product)\n",
    "    \n",
    "    current+=1\n",
    "\n",
    "    # multiply the product so far by the current number\n",
    "    \n",
    "    \n",
    "    # increment current with each iteration until it reaches number\n",
    "\n",
    "\n",
    "\n",
    "# print the factorial of number\n",
    "print(product)"
   ]
  },
  {
   "cell_type": "markdown",
   "metadata": {},
   "source": [
    "## Factorial With for loops"
   ]
  },
  {
   "cell_type": "code",
   "execution_count": null,
   "metadata": {},
   "outputs": [],
   "source": [
    "# number to find the factorial of\n",
    "number = 6   \n",
    "\n",
    "# start with our product equal to one\n",
    "product = 1\n",
    "\n",
    "# write your for loop here\n",
    "for num in range(1,number+1):\n",
    "    product*=num\n",
    "\n",
    "# print the factorial of number\n",
    "print(product)"
   ]
  },
  {
   "cell_type": "markdown",
   "metadata": {},
   "source": [
    "## Nearest Square"
   ]
  },
  {
   "cell_type": "code",
   "execution_count": null,
   "metadata": {},
   "outputs": [],
   "source": [
    "limit = 40\n",
    "\n",
    "# write your while loop here\n",
    "number = 1\n",
    "while number**2 < limit:\n",
    "    square = number**2\n",
    "    print(\"{} : {} \".format(number,square))\n",
    "    number+=1\n",
    "    \n",
    "nearest_square = square\n",
    "print(nearest_square)"
   ]
  },
  {
   "cell_type": "markdown",
   "metadata": {},
   "source": [
    "## ZIP"
   ]
  },
  {
   "cell_type": "code",
   "execution_count": 18,
   "metadata": {},
   "outputs": [
    {
     "name": "stdout",
     "output_type": "stream",
     "text": [
      "('a', 1)\n",
      "('b', 2)\n",
      "('c', 3)\n"
     ]
    }
   ],
   "source": [
    "letters = ['a', 'b', 'c']\n",
    "nums = [1, 2, 3]\n",
    "for letter, num in zip(letters, nums):\n",
    "    combine = (letter, num)\n",
    "    print(tuple(combine))"
   ]
  },
  {
   "cell_type": "code",
   "execution_count": null,
   "metadata": {},
   "outputs": [],
   "source": []
  },
  {
   "cell_type": "code",
   "execution_count": 19,
   "metadata": {},
   "outputs": [
    {
     "name": "stdout",
     "output_type": "stream",
     "text": [
      "(('Pias', 'Paul'), ('Anwar', 'Azim'))\n"
     ]
    }
   ],
   "source": [
    "first_name = [\"Pias\", \"Anwar\"]\n",
    "last_name = [\"Paul\", \"Azim\"]\n",
    "# print(first_name[0] + last_name[0])\n",
    "full_name = zip(first_name, last_name)\n",
    "print(tuple(full_name))\n",
    "# for name in full_name:\n",
    "#     print(name[0] +\" \"+ name[1])\n",
    "    \n",
    "# print(tuple(full_name))\n"
   ]
  },
  {
   "cell_type": "markdown",
   "metadata": {},
   "source": [
    "## Enumerate"
   ]
  },
  {
   "cell_type": "code",
   "execution_count": 21,
   "metadata": {},
   "outputs": [
    {
     "name": "stdout",
     "output_type": "stream",
     "text": [
      "(0, 'a')\n",
      "(1, 'b')\n",
      "(2, 'c')\n",
      "(3, 'd')\n",
      "(4, 'e')\n"
     ]
    }
   ],
   "source": [
    "letters = ['a', 'b', 'c', 'd', 'e']\n",
    "for letter in enumerate(letters):\n",
    "    print(letter)"
   ]
  },
  {
   "cell_type": "markdown",
   "metadata": {},
   "source": [
    "## Divisibility Test"
   ]
  },
  {
   "cell_type": "code",
   "execution_count": 11,
   "metadata": {},
   "outputs": [
    {
     "name": "stdout",
     "output_type": "stream",
     "text": [
      "Enter your number: 25\n",
      "The number is divisible by 5\n"
     ]
    }
   ],
   "source": [
    "number = int(input(\"Enter your number: \"))\n",
    " \n",
    "while True:\n",
    "    if number % 3 == 0 and number % 5 == 0:\n",
    "        print(\"The number is both divisible by 3 and 5\")\n",
    "        break\n",
    "    if number % 3 ==0 or number % 5 ==0:\n",
    "        if number % 3 ==0:\n",
    "            print(\"The number is divisible by 3\")\n",
    "        elif number % 5 ==0:\n",
    "            print(\"The number is divisible by 5\")\n",
    "        break"
   ]
  },
  {
   "cell_type": "markdown",
   "metadata": {},
   "source": [
    "## List Comprehension"
   ]
  },
  {
   "cell_type": "code",
   "execution_count": 15,
   "metadata": {},
   "outputs": [
    {
     "name": "stdout",
     "output_type": "stream",
     "text": [
      "['Dhaka', 'Chittagong']\n",
      "['Dhaka', 'Chittagong']\n"
     ]
    }
   ],
   "source": [
    "capitalized_cities = []\n",
    "cities = ['dhaka', 'chittagong']\n",
    "for city in cities:\n",
    "    capitalized_cities.append(city.title())\n",
    "    \n",
    "print(capitalized_cities)\n",
    "    \n",
    "capitalized_cities = [city.title() for city in cities]\n",
    "print(capitalized_cities)"
   ]
  },
  {
   "cell_type": "code",
   "execution_count": 17,
   "metadata": {},
   "outputs": [
    {
     "name": "stdout",
     "output_type": "stream",
     "text": [
      "Joey Tribbiani Monica Geller Chandler Bing Phoebe Buffay\n"
     ]
    }
   ],
   "source": [
    "names = [\"Joey Tribbiani\", \"Monica Geller\", \"Chandler Bing\", \"Phoebe Buffay\"]\n",
    "name = \" \".join(str(name) for name in names)\n",
    "print(str(name))"
   ]
  },
  {
   "cell_type": "markdown",
   "metadata": {},
   "source": [
    "## Conditionals in List Comprehensions"
   ]
  },
  {
   "cell_type": "code",
   "execution_count": null,
   "metadata": {},
   "outputs": [],
   "source": [
    "squares = [x**2 for x in range(9) if x % 2 == 0]\n",
    "print(squares)"
   ]
  },
  {
   "cell_type": "code",
   "execution_count": null,
   "metadata": {},
   "outputs": [],
   "source": [
    "# squares = [x**2 for x in range(9) if x % 2 == 0 else x + 3]\n",
    "squares = [x**2 if x % 2 == 0 else x + 3 for x in range(9)]\n",
    "print(squares)"
   ]
  },
  {
   "cell_type": "markdown",
   "metadata": {},
   "source": [
    "## File"
   ]
  },
  {
   "cell_type": "code",
   "execution_count": 28,
   "metadata": {},
   "outputs": [],
   "source": [
    "with open(\"test.txt\",'w',encoding = 'utf-8') as f:\n",
    "    f.write(\"my first file\\n\")\n",
    "\n",
    "    \n",
    "with open(\"test.txt\",'w',encoding = 'utf-8') as f:    \n",
    "    f.write(\"This file\\n\\n\")\n",
    "    \n",
    "with open(\"test.txt\",'w',encoding = 'utf-8') as f:\n",
    "    f.write(\"contains three lines\\n\")\n",
    "##Can be optimized to \n",
    "\n",
    "with open(\"test.txt\",'w',encoding = 'utf-8') as f:\n",
    "    f.write(\"my first file\\n\")\n",
    "    f.write(\"This file\\n\\n\")\n",
    "    f.write(\"contains three lines\\n\")"
   ]
  },
  {
   "cell_type": "markdown",
   "metadata": {},
   "source": [
    "## More with File"
   ]
  },
  {
   "cell_type": "code",
   "execution_count": 31,
   "metadata": {},
   "outputs": [],
   "source": [
    "with open(\"test.txt\",'r',encoding = 'utf-8') as f: ## Read the file no other operation can be performed\\\n",
    "    f.read()\n",
    "with open(\"test.txt\",'w',encoding = 'utf-8') as f: ## Read the file no other operation can be performed\\\n",
    "    f.write(\"my first file\\n\")\n",
    "with open(\"test.txt\",'a',encoding = 'utf-8') as f: ## Read the file no other operation can be performed\\\n",
    "    f.write(\"This file\\n\\n\")\n",
    "    f.write(\"contains three lines\\n\")\n",
    "with open(\"test.txt\",'x',encoding = 'utf-8') as f: ## Read the file no other operation can be performed\\\n",
    "    f.write(\"This file\\n\\n\")\n",
    "    f.write(\"contains three lines\\n\")"
   ]
  },
  {
   "cell_type": "markdown",
   "metadata": {},
   "source": [
    "## Lambda Expression"
   ]
  },
  {
   "cell_type": "code",
   "execution_count": 1,
   "metadata": {},
   "outputs": [],
   "source": [
    "def multiply(x, y):\n",
    "    return x * y\n",
    "## Can be Reduced to\n",
    "multiply = lambda x, y: x * y"
   ]
  },
  {
   "cell_type": "markdown",
   "metadata": {},
   "source": [
    "## Generator Expressions"
   ]
  },
  {
   "cell_type": "code",
   "execution_count": null,
   "metadata": {},
   "outputs": [],
   "source": [
    "sq_list = [x**2 for x in range(10)]  # this produces a list of squares\n",
    "\n",
    "sq_iterator = (x**2 for x in range(10))  # this produces an iterator of squares"
   ]
  },
  {
   "cell_type": "code",
   "execution_count": 40,
   "metadata": {},
   "outputs": [
    {
     "name": "stdout",
     "output_type": "stream",
     "text": [
      "File Already Exist\n",
      "Leaving the code\n"
     ]
    }
   ],
   "source": [
    "try:\n",
    "    with open(\"test.txt\",'x',encoding = 'utf-8') as f: ## Read the file no other operation can be performed\\\n",
    "        f.write(\"This file\\n\\n\")\n",
    "        f.write(\"contains three lines\\n\")\n",
    "except:\n",
    "    print(\"File Already Exist\")\n",
    "else:\n",
    "    print(\"Hello\")\n",
    "finally:\n",
    "    print(\"Leaving the code\")"
   ]
  },
  {
   "cell_type": "code",
   "execution_count": 47,
   "metadata": {},
   "outputs": [
    {
     "name": "stdout",
     "output_type": "stream",
     "text": [
      "25 is Not a Prime Number\n",
      "15 is Not a Prime Number\n",
      "4 is Not a Prime Number\n",
      "6 is Not a Prime Number\n",
      "7 is a Prime Number\n",
      "5 is a Prime Number\n"
     ]
    }
   ],
   "source": [
    "nums = [25,15,4,6,7,5]\n",
    "i=0\n",
    "for num in nums:\n",
    "    for i in range(2,num):\n",
    "        if num % i ==0:\n",
    "            print(\"{} is Not a Prime Number\".format(num))\n",
    "            break\n",
    "        if i == num-1:\n",
    "            print(\"{} is a Prime Number\".format(num))\n",
    "    "
   ]
  },
  {
   "cell_type": "code",
   "execution_count": null,
   "metadata": {},
   "outputs": [],
   "source": []
  }
 ],
 "metadata": {
  "kernelspec": {
   "display_name": "Python 3",
   "language": "python",
   "name": "python3"
  },
  "language_info": {
   "codemirror_mode": {
    "name": "ipython",
    "version": 3
   },
   "file_extension": ".py",
   "mimetype": "text/x-python",
   "name": "python",
   "nbconvert_exporter": "python",
   "pygments_lexer": "ipython3",
   "version": "3.6.8"
  }
 },
 "nbformat": 4,
 "nbformat_minor": 2
}
