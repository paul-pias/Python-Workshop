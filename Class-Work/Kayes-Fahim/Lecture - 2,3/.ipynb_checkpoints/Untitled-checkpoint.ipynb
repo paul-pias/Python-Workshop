{
 "cells": [
  {
   "cell_type": "code",
   "execution_count": 2,
   "metadata": {},
   "outputs": [
    {
     "name": "stdout",
     "output_type": "stream",
     "text": [
      "gallahad the pure\n",
      "robin the brave\n"
     ]
    }
   ],
   "source": [
    "knights = {'gallahad': 'the pure', 'robin': 'the brave'}\n",
    "for k, v in knights.items():\n",
    "    print(k, v)"
   ]
  },
  {
   "cell_type": "code",
   "execution_count": 3,
   "metadata": {},
   "outputs": [
    {
     "ename": "ZeroDivisionError",
     "evalue": "division by zero",
     "output_type": "error",
     "traceback": [
      "\u001b[1;31m---------------------------------------------------------------------------\u001b[0m",
      "\u001b[1;31mZeroDivisionError\u001b[0m                         Traceback (most recent call last)",
      "\u001b[1;32m<ipython-input-3-fad870a50e27>\u001b[0m in \u001b[0;36m<module>\u001b[1;34m\u001b[0m\n\u001b[1;32m----> 1\u001b[1;33m \u001b[0mprint\u001b[0m\u001b[1;33m(\u001b[0m\u001b[1;36m5\u001b[0m\u001b[1;33m/\u001b[0m\u001b[1;36m0\u001b[0m\u001b[1;33m)\u001b[0m\u001b[1;33m\u001b[0m\u001b[1;33m\u001b[0m\u001b[0m\n\u001b[0m",
      "\u001b[1;31mZeroDivisionError\u001b[0m: division by zero"
     ]
    }
   ],
   "source": [
    "print(5/0)"
   ]
  },
  {
   "cell_type": "code",
   "execution_count": 14,
   "metadata": {},
   "outputs": [
    {
     "name": "stdout",
     "output_type": "stream",
     "text": [
      "Whether you think you can, or you think you can't--you're right.\n"
     ]
    }
   ],
   "source": [
    "ford_quote = \"Whether you think you can, or you think you can't--you're right.\"\n",
    "print(ford_quote)"
   ]
  },
  {
   "cell_type": "code",
   "execution_count": 15,
   "metadata": {},
   "outputs": [
    {
     "name": "stdout",
     "output_type": "stream",
     "text": [
      "Earth Jupyter\n"
     ]
    }
   ],
   "source": [
    "planet =\"Earth\"\n",
    "Planet =\"Jupyter\"\n",
    "\n",
    "print(planet,Planet)"
   ]
  },
  {
   "cell_type": "code",
   "execution_count": 18,
   "metadata": {},
   "outputs": [
    {
     "name": "stdout",
     "output_type": "stream",
     "text": [
      "MAT250\n"
     ]
    }
   ],
   "source": [
    "student = [\n",
    "            [\"Sujit\",              [\"15120245\",3.14,8, [\"CSE215\",\"MAT250\"]]],\n",
    "              [\"Ali\",[\"1212563\"]],\n",
    "              [\"\",[\"Bad\"]]\n",
    "          ]\n",
    "print(student[0][1][3][1])\n"
   ]
  },
  {
   "cell_type": "code",
   "execution_count": 20,
   "metadata": {},
   "outputs": [
    {
     "name": "stdout",
     "output_type": "stream",
     "text": [
      "5\n"
     ]
    }
   ],
   "source": [
    "start = ,\n",
    "print(len(start))"
   ]
  },
  {
   "cell_type": "code",
   "execution_count": 50,
   "metadata": {},
   "outputs": [
    {
     "name": "stdout",
     "output_type": "stream",
     "text": [
      "['if', 'you', 'can', 'keep', 'your', 'head', 'when', 'all', 'about', 'you', 'are', 'losing', 'theirs', 'and', 'blaming', 'it', 'on', 'you', 'if', 'you', 'can', 'trust', 'yourself', 'when', 'all', 'men', 'doubt', 'you', 'but', 'make', 'allowance', 'for', 'their', 'doubting', 'too', 'if', 'you', 'can', 'wait', 'and', 'not', 'be', 'tired', 'by', 'waiting', 'or', 'being', 'lied', 'about', 'don’t', 'deal', 'in', 'lies', 'or', 'being', 'hated', 'don’t', 'give', 'way', 'to', 'hating', 'and', 'yet', 'don’t', 'look', 'too', 'good', 'nor', 'talk', 'too', 'wise'] \n",
      "\n",
      "71\n",
      "{'your', 'lied', 'trust', 'talk', 'can', 'waiting', 'head', 'by', 'or', 'way', 'but', 'deal', 'their', 'all', 'tired', 'in', 'allowance', 'being', 'if', 'theirs', 'and', 'on', 'are', 'hated', 'good', 'blaming', 'wise', 'losing', 'hating', 'too', 'to', 'give', 'you', 'when', 'for', 'be', 'yet', 'wait', 'make', 'it', 'lies', 'keep', 'not', 'nor', 'doubt', 'don’t', 'look', 'doubting', 'about', 'yourself', 'men'} \n",
      "\n",
      "51 \n",
      "\n",
      "20 \n",
      "\n"
     ]
    }
   ],
   "source": [
    "verse = \"if you can keep your head when all about you are losing theirs and blaming it on you   if you can trust yourself when all men doubt you     but make allowance for their doubting too   if you can wait and not be tired by waiting      or being lied about  don’t deal in lies   or being hated  don’t give way to hating      and yet don’t look too good  nor talk too wise\"\n",
    "\n",
    "print(verse.split(),\"\\n\")\n",
    "word = verse.split()\n",
    "\n",
    "print(len(word))\n",
    "\n",
    "set_word = set(word)\n",
    "\n",
    "print(set_word,\"\\n\")\n",
    "\n",
    "print(len(set_word),\"\\n\")\n",
    "\n",
    "print(len(word) - len(set_word),\"\\n\")\n",
    "\n",
    "\n",
    "\n",
    "\n"
   ]
  },
  {
   "cell_type": "code",
   "execution_count": null,
   "metadata": {},
   "outputs": [],
   "source": [
    "# Class 4 Start from Here"
   ]
  },
  {
   "cell_type": "code",
   "execution_count": 16,
   "metadata": {},
   "outputs": [
    {
     "name": "stdout",
     "output_type": "stream",
     "text": [
      "11\n",
      "11 is Not divisible by 3 & 5\n"
     ]
    }
   ],
   "source": [
    "num = int(input())\n",
    "\n",
    "if num % 3 == 0 and num%5==0:\n",
    "    print(\"{} is divisible by both\".format(num))\n",
    "elif num % 3 == 0:\n",
    "    print(\"{} is divisible by 3\".format(num))\n",
    "elif num % 5 == 0:\n",
    "    print(\"{} is divisible by 3\".format(num))\n",
    "else:\n",
    "    print(\"{} is Not divisible by 3 & 5\".format(num))\n"
   ]
  },
  {
   "cell_type": "code",
   "execution_count": 18,
   "metadata": {},
   "outputs": [
    {
     "name": "stdout",
     "output_type": "stream",
     "text": [
      "6\n",
      "6 is divisible by 3\n"
     ]
    }
   ],
   "source": [
    "nm = int(input())\n",
    "\n",
    "if nm % 3 == 0 and nm%5==0:\n",
    "    print(\"{} is divisible by both\".format(nm))\n",
    "elif nm % 3 == 0 or nm % 5 == 0:\n",
    "    if nm % 3 == 0:\n",
    "        print(\"{} is divisible by 3\".format(nm))\n",
    "    elif nm % 5 == 0:\n",
    "        print(\"{} is divisible by 5\".format(nm))\n",
    "else:\n",
    "    print(\"{} is Not divisible by 3 & 5\".format(nm))\n"
   ]
  },
  {
   "cell_type": "code",
   "execution_count": 20,
   "metadata": {},
   "outputs": [
    {
     "name": "stdout",
     "output_type": "stream",
     "text": [
      "5\n",
      "5 is divisible by 5\n"
     ]
    }
   ],
   "source": [
    "n = int(input())\n",
    "\n",
    "while True:\n",
    "    if n % 3 == 0 and n % 5==0:\n",
    "        print(\"{} is divisible by both\".format(n))\n",
    "        break;\n",
    "    elif n % 3 == 0 or n % 5 == 0:\n",
    "        if n % 3 == 0:\n",
    "            print(\"{} is divisible by 3\".format(n))\n",
    "        elif n % 5 == 0:\n",
    "            print(\"{} is divisible by 5\".format(n))\n",
    "            break;\n",
    "    else:\n",
    "        print(\"{} is Not divisible by 3 & 5\".format(n))\n",
    "        break;\n"
   ]
  },
  {
   "cell_type": "code",
   "execution_count": 26,
   "metadata": {},
   "outputs": [
    {
     "name": "stdout",
     "output_type": "stream",
     "text": [
      "['hello', 'World']\n",
      "hello World\n"
     ]
    }
   ],
   "source": [
    "string = \"hello World\"\n",
    "list1 = string.split()\n",
    "print(list1)\n",
    "\n",
    "new_string = \" \".join(list1)\n",
    "print(new_string)\n"
   ]
  },
  {
   "cell_type": "code",
   "execution_count": 31,
   "metadata": {},
   "outputs": [
    {
     "name": "stdout",
     "output_type": "stream",
     "text": [
      "['joey_tribbiani', 'monica_geller', 'chandler_bing', 'phoebe_buffay']\n"
     ]
    }
   ],
   "source": [
    "names = [\"Joey Tribbiani\",\"Monica Geller\",\"Chandler Bing\",\"Phoebe Buffay\"]\n",
    "user_name =[]\n",
    "\n",
    "for name in names:\n",
    "    name = name.lower()\n",
    "    name = name.replace(\" \",\"_\")\n",
    "    user_name.append(name)\n",
    "\n",
    "    print(user_name)"
   ]
  },
  {
   "cell_type": "code",
   "execution_count": 37,
   "metadata": {},
   "outputs": [
    {
     "name": "stdout",
     "output_type": "stream",
     "text": [
      "['Joey', 'Tribbiani']\n",
      "['Monica', 'Geller']\n",
      "['Chandler', 'Bing']\n",
      "['Phoebe', 'Buffay']\n"
     ]
    }
   ],
   "source": [
    "Nnames = [\"Joey Tribbiani\",\"Monica Geller\",\"Chandler Bing\",\"Phoebe Buffay\"]\n",
    "\n",
    "user_name =[]\n",
    "\n",
    "for name in Nnames:\n",
    "\n",
    "    name = name.split()\n",
    "    print(name)"
   ]
  },
  {
   "cell_type": "code",
   "execution_count": 43,
   "metadata": {},
   "outputs": [
    {
     "name": "stdout",
     "output_type": "stream",
     "text": [
      "gallahad the pure\n",
      "robin the brave\n"
     ]
    }
   ],
   "source": [
    "knights = {'gallahad': 'the pure', 'robin': 'the brave'}\n",
    "for k, v in knights.items():\n",
    "        print (k, v)"
   ]
  },
  {
   "cell_type": "code",
   "execution_count": 49,
   "metadata": {},
   "outputs": [
    {
     "name": "stdout",
     "output_type": "stream",
     "text": [
      "fruit apples : value 5\n",
      "fruit oranges : value 20\n",
      "fruit kites : value 4\n",
      "29\n"
     ]
    }
   ],
   "source": [
    "basket_items = {'apples' : 4, \"oranges\" : 19, 'kites': 3, \"sandwitches\" : 8}\n",
    "fruits = ['apples', 'oranges', 'kites', 'peaches', 'grapes', 'bananas']\n",
    "total = 0\n",
    "\n",
    "for fruit in fruits:\n",
    "    for name,value in basket_items.items():\n",
    "        if fruit == name:\n",
    "            value +=1\n",
    "            total += value\n",
    "            print(\"fruit {} : value {}\".format(name,value))\n",
    "            \n",
    "print(total)            "
   ]
  },
  {
   "cell_type": "code",
   "execution_count": null,
   "metadata": {},
   "outputs": [],
   "source": [
    "num = int(input(\"enter a number: \"))\n",
    " \n",
    "fac = 1\n",
    "i = 1\n",
    " \n",
    "while i <= num:\n",
    "    fac = fac * i\n",
    "    i = i + 1\n",
    " \n",
    " print(\"factorial of {} is {}\".format(num,fac))"
   ]
  },
  {
   "cell_type": "code",
   "execution_count": null,
   "metadata": {},
   "outputs": [],
   "source": []
  }
 ],
 "metadata": {
  "kernelspec": {
   "display_name": "Python 3",
   "language": "python",
   "name": "python3"
  },
  "language_info": {
   "codemirror_mode": {
    "name": "ipython",
    "version": 3
   },
   "file_extension": ".py",
   "mimetype": "text/x-python",
   "name": "python",
   "nbconvert_exporter": "python",
   "pygments_lexer": "ipython3",
   "version": "3.6.7"
  }
 },
 "nbformat": 4,
 "nbformat_minor": 2
}
