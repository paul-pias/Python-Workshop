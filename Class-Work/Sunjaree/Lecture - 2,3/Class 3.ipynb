{
 "cells": [
  {
   "cell_type": "code",
   "execution_count": 1,
   "metadata": {},
   "outputs": [
    {
     "name": "stdout",
     "output_type": "stream",
     "text": [
      "Whether you think you can, or you think you can'\t--you're right.\n"
     ]
    }
   ],
   "source": [
    "ford_quote = \"Whether you think you can, or you think you can'\\t--you\\'re right.\"\n",
    "print(ford_quote)"
   ]
  },
  {
   "cell_type": "code",
   "execution_count": 3,
   "metadata": {},
   "outputs": [
    {
     "name": "stdout",
     "output_type": "stream",
     "text": [
      "Earth Jupiter\n",
      "EarthJupiter\n"
     ]
    }
   ],
   "source": [
    "planet=\"Earth\"\n",
    "Planet=\"Jupiter\"\n",
    "print(planet,Planet)\n",
    "print(planet+Planet)\n"
   ]
  },
  {
   "cell_type": "code",
   "execution_count": 4,
   "metadata": {},
   "outputs": [
    {
     "name": "stdout",
     "output_type": "stream",
     "text": [
      "MAT250\n"
     ]
    }
   ],
   "source": [
    "student = [\n",
    "[\"Sujit\",[\"15120245\",3.14,8,[\"CSE215\",\"MAT250\"]]],\n",
    "              [\"Ali\",[\"1212563\"]],\n",
    "              [\"\",[\"Bad\"]]\n",
    "          ]\n",
    "print(student[0][1][3][1])"
   ]
  },
  {
   "cell_type": "code",
   "execution_count": 6,
   "metadata": {},
   "outputs": [
    {
     "name": "stdout",
     "output_type": "stream",
     "text": [
      "(52, 40, 100)\n",
      "52\n",
      "40\n",
      "100\n"
     ]
    }
   ],
   "source": [
    "#packing and unpacking\n",
    "dimensions = 52,40,100\n",
    "print(dimensions)\n",
    "length,width,height = dimensions\n",
    "print(length)\n",
    "print(width)\n",
    "print(height)"
   ]
  },
  {
   "cell_type": "code",
   "execution_count": 11,
   "metadata": {},
   "outputs": [
    {
     "name": "stdout",
     "output_type": "stream",
     "text": [
      "[1, 2, 3, 1, 4, 1, 6]\n",
      "18\n",
      "{1, 2, 3, 4, 6}\n"
     ]
    }
   ],
   "source": [
    "numbers = [1,2,3,1,4,1,6]\n",
    "print(numbers)\n",
    "print(sum(numbers))\n",
    "number_set = set(numbers)\n",
    "print(number_set)"
   ]
  },
  {
   "cell_type": "code",
   "execution_count": 13,
   "metadata": {},
   "outputs": [
    {
     "name": "stdout",
     "output_type": "stream",
     "text": [
      "{1, 2, 3, 4, 6, 7, 9, 'one', 'two'}\n"
     ]
    }
   ],
   "source": [
    "new_set = {9,\"one\",7,\"two\"}\n",
    "number_set.update(new_set)\n",
    "print(number_set)"
   ]
  },
  {
   "cell_type": "code",
   "execution_count": 14,
   "metadata": {},
   "outputs": [
    {
     "name": "stdout",
     "output_type": "stream",
     "text": [
      "{'Shangai': 17.4, 'Istanbul': 13.3, 'Karachi': 13.0, 'Mumbai': 12.5}\n"
     ]
    }
   ],
   "source": [
    "population = {\n",
    "    'Shangai' : 17.4,\n",
    "    'Istanbul': 13.3,\n",
    "    'Karachi' : 13.0,\n",
    "    'Mumbai'  : 12.5\n",
    "}\n",
    "print(population)"
   ]
  },
  {
   "cell_type": "code",
   "execution_count": 16,
   "metadata": {},
   "outputs": [
    {
     "name": "stdout",
     "output_type": "stream",
     "text": [
      "{'Shangai': {'country': 'chaina', 'population': 17.4}, 'Istanbul': 13.3, 'Karachi': 13.0, 'Mumbai': 12.5}\n"
     ]
    }
   ],
   "source": [
    "population['Shangai'] = {\n",
    "    'country':'chaina',\n",
    "    'population':17.4\n",
    "}\n",
    "print(population)"
   ]
  },
  {
   "cell_type": "code",
   "execution_count": 22,
   "metadata": {},
   "outputs": [
    {
     "name": "stdout",
     "output_type": "stream",
     "text": [
      "8\n",
      "too low\n"
     ]
    }
   ],
   "source": [
    "answer = 50\n",
    "guess = int(input())\n",
    "\n",
    "if(guess < answer):\n",
    "    result = \"too low\"\n",
    "elif(guess > answer):\n",
    "    result = \"too high\"\n",
    "elif(guess == answer):\n",
    "    result = \"matched\"\n",
    "else:\n",
    "    result = \"invalid\"\n",
    "print(result)"
   ]
  },
  {
   "cell_type": "code",
   "execution_count": 24,
   "metadata": {},
   "outputs": [
    {
     "name": "stdout",
     "output_type": "stream",
     "text": [
      "red color exists\n"
     ]
    }
   ],
   "source": [
    "color = ['red','blue','green']\n",
    "if('red' in color):\n",
    "    print(\"red color exists\")\n",
    "else:\n",
    "    print(\"red color doesn't exists\")"
   ]
  },
  {
   "cell_type": "code",
   "execution_count": 28,
   "metadata": {},
   "outputs": [
    {
     "name": "stdout",
     "output_type": "stream",
     "text": [
      "{'red': 2, 'blue': 1, 'white': 1}\n"
     ]
    }
   ],
   "source": [
    "colors = ['red','blue','red','white']\n",
    "\n",
    "color_dic = {}     #empty dictionary\n",
    "\n",
    "for color in colors:\n",
    "    if color not in color_dic:\n",
    "        color_dic[color] = 1\n",
    "    else:\n",
    "        color_dic[color] += 1\n",
    "        \n",
    "print(color_dic)\n",
    "        \n",
    "        "
   ]
  },
  {
   "cell_type": "code",
   "execution_count": 35,
   "metadata": {},
   "outputs": [
    {
     "name": "stdout",
     "output_type": "stream",
     "text": [
      "['if', 'you', 'can', 'keep', 'your', 'head', 'when', 'allabout', 'you', 'are', 'losing', 'theirs', 'and', 'blaming', 'it', 'on', 'you', 'if', 'you', 'can', 'trust', 'yourself', 'when', 'all', 'men', 'doubt', 'you', 'but', 'make', 'allowance', 'for', 'their', 'doubting', 'too', 'if', 'you', 'can', 'wait', 'and', 'not', 'be', 'tired', 'by', 'waiting', 'or', 'being', 'lied', 'about', 'don’t', 'deal', 'in', 'lies', 'or', 'being', 'hated', 'don’t', 'give', 'way', 'to', 'hating', 'and', 'yet', 'don’t', 'look', 'too', 'good', 'nor', 'talk', 'too', 'wise']\n",
      "70\n",
      "{'lied', 'you', 'on', 'all', 'allowance', 'blaming', 'but', 'be', 'to', 'allabout', 'or', 'your', 'doubting', 'for', 'doubt', 'good', 'wise', 'talk', 'are', 'if', 'head', 'their', 'keep', 'too', 'make', 'give', 'not', 'don’t', 'theirs', 'look', 'way', 'being', 'tired', 'can', 'when', 'lies', 'waiting', 'and', 'yourself', 'hated', 'men', 'in', 'about', 'nor', 'losing', 'it', 'wait', 'hating', 'yet', 'deal', 'trust', 'by'}\n",
      "52\n"
     ]
    }
   ],
   "source": [
    "verse = \"if you can keep your head when allabout you are losing theirs and blaming it on you   if you can trust yourself when all men doubt you     but make allowance for their doubting too   if you can wait and not be tired by waiting      or being lied about  don’t deal in lies   or being hated  don’t give way to hating      and yet don’t look too good  nor talk too wise\"\n",
    "words = verse.split()\n",
    "print(words)\n",
    "print(len(words))\n",
    "words_set = set(words)\n",
    "print(words_set)\n",
    "print(len(words_set))"
   ]
  },
  {
   "cell_type": "code",
   "execution_count": 42,
   "metadata": {},
   "outputs": [
    {
     "name": "stdout",
     "output_type": "stream",
     "text": [
      "CA\n",
      "Since you are form CA,your total cost is 129.0\n"
     ]
    }
   ],
   "source": [
    "state = input()\n",
    "purchase_amount = 120\n",
    "if state==\"CA\":\n",
    "    tax_amount = 0.075\n",
    "    total_cost = purchase_amount * ( 1+ tax_amount)\n",
    "    result = \"Since you are form {},your total cost is {}\".format(state,total_cost)\n",
    "elif state == \"MN\" :\n",
    "    tax_amount = 0.095\n",
    "    total_cost = purchase_amount * ( 1+ tax_amount)\n",
    "    result = \"Since you are form {},your total cost is {}\".format(state,total_cost)\n",
    "elif state == \"NY\":\n",
    "    tax_amount = 0.089\n",
    "    total_cost = purchase_amount * ( 1+ tax_amount)\n",
    "    result = \"Since you are form {},your total cost is {}\".format(state,total_cost)\n",
    "    \n",
    "print(result)    "
   ]
  },
  {
   "cell_type": "code",
   "execution_count": null,
   "metadata": {},
   "outputs": [],
   "source": [
    "f = open()"
   ]
  }
 ],
 "metadata": {
  "kernelspec": {
   "display_name": "Python 3",
   "language": "python",
   "name": "python3"
  },
  "language_info": {
   "codemirror_mode": {
    "name": "ipython",
    "version": 3
   },
   "file_extension": ".py",
   "mimetype": "text/x-python",
   "name": "python",
   "nbconvert_exporter": "python",
   "pygments_lexer": "ipython3",
   "version": "3.6.7"
  }
 },
 "nbformat": 4,
 "nbformat_minor": 2
}
