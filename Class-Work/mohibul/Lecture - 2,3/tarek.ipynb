{
 "cells": [
  {
   "cell_type": "code",
   "execution_count": 2,
   "metadata": {},
   "outputs": [
    {
     "name": "stdout",
     "output_type": "stream",
     "text": [
      "whether you think you can,or you think you can't--you're right.\n"
     ]
    }
   ],
   "source": [
    "print(\"whether you think you can,or you think you can\\'t--you\\'re right.\")\n"
   ]
  },
  {
   "cell_type": "code",
   "execution_count": 5,
   "metadata": {},
   "outputs": [
    {
     "name": "stdout",
     "output_type": "stream",
     "text": [
      "Earth earth\n"
     ]
    }
   ],
   "source": [
    "p=\"Earth\"\n",
    "P=\"earth\"\n",
    "print(p,P)"
   ]
  },
  {
   "cell_type": "code",
   "execution_count": 9,
   "metadata": {},
   "outputs": [
    {
     "name": "stdout",
     "output_type": "stream",
     "text": [
      "49\n"
     ]
    }
   ],
   "source": [
    "c=\"15\"\n",
    "m=\"34\"\n",
    "tr=int(c)+int(m)\n",
    "print(tr)"
   ]
  },
  {
   "cell_type": "code",
   "execution_count": null,
   "metadata": {},
   "outputs": [],
   "source": []
  },
  {
   "cell_type": "code",
   "execution_count": 13,
   "metadata": {},
   "outputs": [
    {
     "name": "stdout",
     "output_type": "stream",
     "text": [
      "MAT250\n"
     ]
    }
   ],
   "source": [
    "student = [\n",
    "[\"Sujit\",[\"15120245\",3.14,8,[\"CSE215\",\"MAT250\"]]],\n",
    "              [\"Ali\",[\"1212563\"]],\n",
    "              [\"\",[\"Bad\"]]\n",
    "          ]\n",
    "print(student[0][1][3][1])"
   ]
  },
  {
   "cell_type": "code",
   "execution_count": null,
   "metadata": {},
   "outputs": [],
   "source": []
  },
  {
   "cell_type": "code",
   "execution_count": 14,
   "metadata": {},
   "outputs": [
    {
     "name": "stdout",
     "output_type": "stream",
     "text": [
      "(52, 40, 100)\n",
      "52\n",
      "40\n",
      "100\n"
     ]
    }
   ],
   "source": [
    "dimension=52,40,100\n",
    "print(dimension)\n",
    "length,width,height=dimension\n",
    "print(length)\n",
    "print(width)\n",
    "print(height)\n"
   ]
  },
  {
   "cell_type": "code",
   "execution_count": 17,
   "metadata": {},
   "outputs": [
    {
     "name": "stdout",
     "output_type": "stream",
     "text": [
      "[1, 2, 3, 4, 5, 6, 7, 8]\n",
      "36\n",
      "{1, 2, 3, 4, 5, 6, 7, 8}\n"
     ]
    }
   ],
   "source": [
    "num=[1,2,3,4,5,6,7,8]\n",
    "print(num)\n",
    "print(sum(num))\n",
    "num_set=set(num)\n",
    "print(num_set)"
   ]
  },
  {
   "cell_type": "code",
   "execution_count": 19,
   "metadata": {},
   "outputs": [
    {
     "name": "stdout",
     "output_type": "stream",
     "text": [
      "{'dhaka': 20.5, 'islamabad': 10.5, 'kashmir': 7.5, 'military': 1.0}\n"
     ]
    }
   ],
   "source": [
    "popul={\n",
    "    \n",
    "    'dhaka':20.5,\n",
    "    'islamabad':10.5,\n",
    "    'kashmir':7.5,\n",
    "    'military':1.0\n",
    "    \n",
    "    \n",
    "}\n",
    "print(popul)"
   ]
  },
  {
   "cell_type": "code",
   "execution_count": 21,
   "metadata": {},
   "outputs": [
    {
     "name": "stdout",
     "output_type": "stream",
     "text": [
      "7.5\n"
     ]
    }
   ],
   "source": [
    "print(popul['kashmir'])"
   ]
  },
  {
   "cell_type": "code",
   "execution_count": 23,
   "metadata": {},
   "outputs": [
    {
     "name": "stdout",
     "output_type": "stream",
     "text": [
      "{'dhaka': 20.5, 'islamabad': 10.5, 'kashmir': {'country': 'occupied by india', 'popul': 7.5}, 'military': 1.0}\n"
     ]
    }
   ],
   "source": [
    "popul['kashmir']={\n",
    "    'country':'occupied by india',\n",
    "    'popul':7.5\n",
    "}\n",
    "print(popul)"
   ]
  },
  {
   "cell_type": "code",
   "execution_count": 27,
   "metadata": {},
   "outputs": [
    {
     "name": "stdout",
     "output_type": "stream",
     "text": [
      "67\n",
      "too high\n"
     ]
    }
   ],
   "source": [
    "ans=50\n",
    "guess=int(input())\n",
    "\n",
    "if(guess<ans):\n",
    "  res=\"too low\"\n",
    "elif(guess>ans):\n",
    "  res=\"too high\"\n",
    "elif(guess==ans):\n",
    "  res=\"nice! matched\"\n",
    "else:\n",
    "    res=\"invalid\"\n",
    "print(res)"
   ]
  },
  {
   "cell_type": "code",
   "execution_count": 28,
   "metadata": {},
   "outputs": [
    {
     "name": "stdout",
     "output_type": "stream",
     "text": [
      "red is exist in the colors list\n"
     ]
    }
   ],
   "source": [
    "colors=['red','blue','green']\n",
    "if ('red' in colors):\n",
    "    print(\"red is exist in the colors list\")\n",
    "else:\n",
    "    print(\" color doesn't exist in the list\")\n",
    "    "
   ]
  },
  {
   "cell_type": "code",
   "execution_count": 40,
   "metadata": {},
   "outputs": [
    {
     "ename": "KeyError",
     "evalue": "'red'",
     "output_type": "error",
     "traceback": [
      "\u001b[1;31m---------------------------------------------------------------------------\u001b[0m",
      "\u001b[1;31mKeyError\u001b[0m                                  Traceback (most recent call last)",
      "\u001b[1;32m<ipython-input-40-92a587a88627>\u001b[0m in \u001b[0;36m<module>\u001b[1;34m\u001b[0m\n\u001b[0;32m      6\u001b[0m         \u001b[0mcolor_dictionary\u001b[0m\u001b[1;33m[\u001b[0m\u001b[0mcolor\u001b[0m\u001b[1;33m]\u001b[0m\u001b[1;33m=\u001b[0m \u001b[1;36m1\u001b[0m\u001b[1;33m\u001b[0m\u001b[1;33m\u001b[0m\u001b[0m\n\u001b[0;32m      7\u001b[0m     \u001b[1;32melse\u001b[0m\u001b[1;33m:\u001b[0m\u001b[1;33m\u001b[0m\u001b[1;33m\u001b[0m\u001b[0m\n\u001b[1;32m----> 8\u001b[1;33m          \u001b[0mcolor_dictionary\u001b[0m\u001b[1;33m[\u001b[0m\u001b[0mcolor\u001b[0m\u001b[1;33m]\u001b[0m \u001b[1;33m+=\u001b[0m \u001b[1;36m1\u001b[0m\u001b[1;33m\u001b[0m\u001b[1;33m\u001b[0m\u001b[0m\n\u001b[0m\u001b[0;32m      9\u001b[0m \u001b[0mprint\u001b[0m\u001b[1;33m(\u001b[0m\u001b[0mcolor_dictionary\u001b[0m\u001b[1;33m)\u001b[0m\u001b[1;33m\u001b[0m\u001b[1;33m\u001b[0m\u001b[0m\n",
      "\u001b[1;31mKeyError\u001b[0m: 'red'"
     ]
    }
   ],
   "source": [
    "colors=['red','blue','green']\n",
    "\n",
    "color_dictionary={}\n",
    "for color in colors:\n",
    "    if color in color_dictionary:\n",
    "        color_dictionary[color]= 1\n",
    "    else:       \n",
    "         color_dictionary[color] += 1\n",
    "print(color_dictionary)"
   ]
  },
  {
   "cell_type": "code",
   "execution_count": 32,
   "metadata": {},
   "outputs": [
    {
     "name": "stdout",
     "output_type": "stream",
     "text": [
      "['if', 'you', 'can', 'keep', 'your', 'head', 'when', 'all', 'about', 'you', 'are', 'losing', 'theirs', 'and', 'blaming', 'it', 'on', 'you', 'if', 'you', 'can', 'trust', 'yourself', 'when', 'all', 'men', 'doubt', 'you', 'but', 'make', 'allowance', 'for', 'their', 'doubting', 'too', 'if', 'you', 'can', 'wait', 'and', 'not', 'be', 'tired', 'by', 'waiting', 'or', 'being', 'lied', 'about', 'don’t', 'deal', 'in', 'lies', 'or', 'being', 'hated', 'don’t', 'give', 'way', 'to', 'hating', 'and', 'yet', 'don’t', 'look', 'too', 'good', 'nor', 'talk', 'too', 'wise']\n",
      "71\n"
     ]
    }
   ],
   "source": [
    "verse = \"if you can keep your head when all about you are losing theirs and blaming it on you   if you can trust yourself when all men doubt you     but make allowance for their doubting too   if you can wait and not be tired by waiting      or being lied about  don’t deal in lies   or being hated  don’t give way to hating      and yet don’t look too good  nor talk too wise\"\n",
    "\n",
    "words=verse.split()\n",
    "print(words)\n",
    "print(len(words))\n",
    "\n"
   ]
  },
  {
   "cell_type": "code",
   "execution_count": 7,
   "metadata": {},
   "outputs": [
    {
     "name": "stdout",
     "output_type": "stream",
     "text": [
      "red\n",
      "blue\n",
      "green\n",
      "red\n",
      "{'red': 2, 'blue': 1, 'green': 1}\n"
     ]
    }
   ],
   "source": [
    "colors=['red','blue','green', 'red']\n",
    "\n",
    "color_dictionary={}\n",
    "for color in colors:\n",
    "    if color not in color_dictionary:\n",
    "        print(color)\n",
    "        color_dictionary[color] = 1\n",
    "    else:       \n",
    "        print(color)\n",
    "        color_dictionary[color] += 1\n",
    "print(color_dictionary)"
   ]
  },
  {
   "cell_type": "code",
   "execution_count": 11,
   "metadata": {},
   "outputs": [
    {
     "name": "stdout",
     "output_type": "stream",
     "text": [
      "161.25\n"
     ]
    }
   ],
   "source": [
    "state='CA'\n",
    "purchase_amount=150\n",
    "\n",
    "if state=='CA':\n",
    "    tax_amount=0.075\n",
    "    total_amount=(purchase_amount+(purchase_amount*.075))\n",
    "    \n",
    "elif state='MN'\n",
    "    tax_amount=0.095\n",
    "    total_amount=(purchase_amount+(purchase_amount*0.095))\n",
    "    \n",
    "print(total_amount)"
   ]
  },
  {
   "cell_type": "code",
   "execution_count": null,
   "metadata": {},
   "outputs": [],
   "source": [
    "f=open(\"\")"
   ]
  }
 ],
 "metadata": {
  "kernelspec": {
   "display_name": "Python 3",
   "language": "python",
   "name": "python3"
  },
  "language_info": {
   "codemirror_mode": {
    "name": "ipython",
    "version": 3
   },
   "file_extension": ".py",
   "mimetype": "text/x-python",
   "name": "python",
   "nbconvert_exporter": "python",
   "pygments_lexer": "ipython3",
   "version": "3.6.7"
  }
 },
 "nbformat": 4,
 "nbformat_minor": 2
}
