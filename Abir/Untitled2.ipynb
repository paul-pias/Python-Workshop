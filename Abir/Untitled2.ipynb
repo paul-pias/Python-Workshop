{
 "cells": [
  {
   "cell_type": "code",
   "execution_count": 2,
   "metadata": {},
   "outputs": [
    {
     "data": {
      "text/plain": [
       "'He'"
      ]
     },
     "execution_count": 2,
     "metadata": {},
     "output_type": "execute_result"
    }
   ],
   "source": [
    "s= \"Hello\"\n",
    "s[0:2]"
   ]
  },
  {
   "cell_type": "code",
   "execution_count": 3,
   "metadata": {},
   "outputs": [],
   "source": [
    "student = [\n",
    "[\"Sujit\",[\"15120245\",3.14,8,[\"CSE215\",\"MAT250\"]]],\n",
    "              [\"Ali\",[\"1212563\"]],\n",
    "              [\"\",[\"Bad\"]]\n",
    "          ]"
   ]
  },
  {
   "cell_type": "code",
   "execution_count": 4,
   "metadata": {},
   "outputs": [
    {
     "name": "stdout",
     "output_type": "stream",
     "text": [
      "MAT250\n"
     ]
    }
   ],
   "source": [
    "print(student[0][1][3][1])"
   ]
  },
  {
   "cell_type": "code",
   "execution_count": 5,
   "metadata": {},
   "outputs": [
    {
     "ename": "NameError",
     "evalue": "name 'location' is not defined",
     "output_type": "error",
     "traceback": [
      "\u001b[1;31m---------------------------------------------------------------------------\u001b[0m",
      "\u001b[1;31mNameError\u001b[0m                                 Traceback (most recent call last)",
      "\u001b[1;32m<ipython-input-5-82ff78871521>\u001b[0m in \u001b[0;36m<module>\u001b[1;34m\u001b[0m\n\u001b[0;32m      1\u001b[0m \u001b[0mlocaton\u001b[0m \u001b[1;33m=\u001b[0m \u001b[1;33m(\u001b[0m\u001b[1;36m13.4215\u001b[0m\u001b[1;33m,\u001b[0m \u001b[1;36m103.8667\u001b[0m\u001b[1;33m)\u001b[0m\u001b[1;33m\u001b[0m\u001b[1;33m\u001b[0m\u001b[0m\n\u001b[0;32m      2\u001b[0m \u001b[1;33m\u001b[0m\u001b[0m\n\u001b[1;32m----> 3\u001b[1;33m \u001b[0mprint\u001b[0m\u001b[1;33m(\u001b[0m\u001b[1;34m\"Latitute:\"\u001b[0m\u001b[1;33m,\u001b[0m \u001b[0mlocation\u001b[0m\u001b[1;33m[\u001b[0m\u001b[1;36m0\u001b[0m\u001b[1;33m]\u001b[0m\u001b[1;33m)\u001b[0m\u001b[1;33m\u001b[0m\u001b[1;33m\u001b[0m\u001b[0m\n\u001b[0m\u001b[0;32m      4\u001b[0m \u001b[0mprint\u001b[0m\u001b[1;33m(\u001b[0m\u001b[1;34m\"Longitude: \"\u001b[0m\u001b[1;33m,\u001b[0m \u001b[0mlocation\u001b[0m\u001b[1;33m[\u001b[0m\u001b[1;36m1\u001b[0m\u001b[1;33m]\u001b[0m\u001b[1;33m)\u001b[0m\u001b[1;33m\u001b[0m\u001b[1;33m\u001b[0m\u001b[0m\n",
      "\u001b[1;31mNameError\u001b[0m: name 'location' is not defined"
     ]
    }
   ],
   "source": [
    "locaton = (13.4215, 103.8667)\n",
    "\n",
    "print(\"Latitute:\", location[0])\n",
    "print(\"Longitude:\",location[1])"
   ]
  },
  {
   "cell_type": "code",
   "execution_count": 7,
   "metadata": {},
   "outputs": [
    {
     "name": "stdout",
     "output_type": "stream",
     "text": [
      "(52, 40, 100)\n",
      "52\n",
      "40\n",
      "100\n"
     ]
    }
   ],
   "source": [
    "dimensions = 52, 40, 100\n",
    "print(dimensions)\n",
    "length, width, height = dimensions\n",
    "print(length)\n",
    "print(width)\n",
    "print(height)"
   ]
  },
  {
   "cell_type": "code",
   "execution_count": 13,
   "metadata": {},
   "outputs": [
    {
     "name": "stdout",
     "output_type": "stream",
     "text": [
      "[1, 2, 3, 1, 4, 1, 6]\n",
      "18\n",
      "{1, 2, 3, 4, 6}\n"
     ]
    }
   ],
   "source": [
    "numbers = [1,2,3,1,4,1,6]\n",
    "print(numbers)\n",
    "print(sum(numbers))\n",
    "number_set = set(numbers)\n",
    "print(number_set)"
   ]
  },
  {
   "cell_type": "code",
   "execution_count": 14,
   "metadata": {},
   "outputs": [
    {
     "name": "stdout",
     "output_type": "stream",
     "text": [
      "{1, 2, 3, 4, 6, 7, 8, 9}\n"
     ]
    }
   ],
   "source": [
    "new_set = {9,8,7}\n",
    "number_set.update(new_set)\n",
    "print(number_set)"
   ]
  },
  {
   "cell_type": "code",
   "execution_count": 15,
   "metadata": {},
   "outputs": [
    {
     "name": "stdout",
     "output_type": "stream",
     "text": [
      "{'Shanghai': 17.4, 'Istanbul': 13.3, 'Karachi': 13.0, 'Mumbai': 12.5}\n"
     ]
    }
   ],
   "source": [
    "population = {\n",
    "    'Shanghai':17.4,\n",
    "    'Istanbul':13.3,\n",
    "    'Karachi':13.0,\n",
    "    'Mumbai':12.5\n",
    "}\n",
    "print(population)\n"
   ]
  },
  {
   "cell_type": "code",
   "execution_count": 16,
   "metadata": {},
   "outputs": [
    {
     "name": "stdout",
     "output_type": "stream",
     "text": [
      "Abir\n"
     ]
    }
   ],
   "source": [
    "a = \"Abir\"\n",
    "print(a)"
   ]
  },
  {
   "cell_type": "code",
   "execution_count": 20,
   "metadata": {},
   "outputs": [
    {
     "name": "stdout",
     "output_type": "stream",
     "text": [
      "{'Shanghai': {'country': 'china', 'population': 17.4}, 'Istanbul': 13.3, 'Karachi': 13.0, 'Mumbai': 12.5}\n"
     ]
    }
   ],
   "source": [
    "population['Shanghai']={\n",
    "    'country': 'china','population':17.4\n",
    "}\n",
    "print(population)"
   ]
  },
  {
   "cell_type": "code",
   "execution_count": 31,
   "metadata": {},
   "outputs": [
    {
     "name": "stdout",
     "output_type": "stream",
     "text": [
      "50\n",
      "Your ans is true\n"
     ]
    }
   ],
   "source": [
    "ans = 50\n",
    "guess = int(input())\n",
    "if(guess<ans):\n",
    "    result = \"Your guess is too low\"\n",
    "elif(guess>ans):\n",
    "    result = \"Your guess is too high\"\n",
    "elif(guess==ans):\n",
    "    result = \"Your ans is true\"\n",
    "else:\n",
    "    result = \"Invalid\"\n",
    "\n",
    "print(result)"
   ]
  },
  {
   "cell_type": "code",
   "execution_count": 33,
   "metadata": {},
   "outputs": [
    {
     "name": "stdout",
     "output_type": "stream",
     "text": [
      "red color exists\n"
     ]
    }
   ],
   "source": [
    "color = ['red', 'blue', 'green']\n",
    "if('red' in color ):\n",
    "    print(\"red color exists\")\n",
    "else:\n",
    "    print(\"red color does not exist\")"
   ]
  },
  {
   "cell_type": "code",
   "execution_count": null,
   "metadata": {},
   "outputs": [],
   "source": [
    "color = ['red', 'blue', 'green']\n",
    "color_dictionary={}\n",
    "\n",
    "if('red' in color ):\n",
    "    print(\"red color exists\")\n",
    "else:\n",
    "    print(\"red color does not exist\")"
   ]
  },
  {
   "cell_type": "code",
   "execution_count": 34,
   "metadata": {},
   "outputs": [
    {
     "name": "stdout",
     "output_type": "stream",
     "text": [
      "['if', 'you', 'can', 'keep', 'your', 'head', 'when', 'all', 'about', 'you', 'are', 'losing', 'theirs', 'and', 'blaming', 'it', 'on', 'you', 'if', 'you', 'can', 'trust', 'yourself', 'when', 'all', 'men', 'doubt', 'you', 'but', 'make', 'allowance', 'for', 'their', 'doubting', 'too', 'if', 'you', 'can', 'wait', 'and', 'not', 'be', 'tired', 'by', 'waiting', 'or', 'being', 'lied', 'about', 'don’t', 'deal', 'in', 'lies', 'or', 'being', 'hated', 'don’t', 'give', 'way', 'to', 'hating', 'and', 'yet', 'don’t', 'look', 'too', 'good', 'nor', 'talk', 'too', 'wise']\n"
     ]
    }
   ],
   "source": [
    "verse = \"if you can keep your head when all about you are losing theirs and blaming it on you   if you can trust yourself when all men doubt you     but make allowance for their doubting too   if you can wait and not be tired by waiting      or being lied about  don’t deal in lies   or being hated  don’t give way to hating      and yet don’t look too good  nor talk too wise\"\n",
    "words = verse.split()\n",
    "print(words)"
   ]
  },
  {
   "cell_type": "code",
   "execution_count": 35,
   "metadata": {},
   "outputs": [
    {
     "name": "stdout",
     "output_type": "stream",
     "text": [
      "['if', 'you', 'can', 'keep', 'your', 'head', 'when', 'all', 'about', 'you', 'are', 'losing', 'their', 'and', 'blaming', 'it', 'on', 'you', 'if', 'you', 'can', 'trust', 'yourself', 'when', 'all', 'men', 'doubt', 'you', 'but', 'make', 'allowance', 'for', 'their', 'doubting', 'too', 'if', 'you', 'can', 'wait', 'and', 'not', 'be', 'tired', 'by', 'waiting', 'or', 'being', 'lied', 'aobut', \"don't\", 'deal', 'in', 'lies', 'or', 'being', 'hated', \"don't\", 'give', 'way', 'to', 'hating', 'and', 'yet', \"don't\", 'look', 'too', 'good', 'nor', 'talk', 'too', 'wise']\n"
     ]
    }
   ],
   "source": [
    "verse = \"if you can keep your head when all about you are losing their and blaming it on you if you can trust yourself when all men doubt you but make allowance for their doubting too if you can wait and not be tired by waiting or being lied aobut don't deal in lies or being hated don't give way to hating and yet don't look too good nor talk too wise\"\n",
    "words = verse.split()\n",
    "print(words)"
   ]
  },
  {
   "cell_type": "code",
   "execution_count": 38,
   "metadata": {},
   "outputs": [
    {
     "name": "stdout",
     "output_type": "stream",
     "text": [
      "['if', 'you', 'can', 'keep', 'your', 'head', 'when', 'all', 'about', 'you', 'are', 'losing', 'their', 'and', 'blaming', 'it', 'on', 'you', 'if', 'you', 'can', 'trust', 'yourself', 'when', 'all', 'men', 'doubt', 'you', 'but', 'make', 'allowance', 'for', 'their', 'doubting', 'too', 'if', 'you', 'can', 'wait', 'and', 'not', 'be', 'tired', 'by', 'waiting', 'or', 'being', 'lied', 'aobut', \"don't\", 'deal', 'in', 'lies', 'or', 'being', 'hated', \"don't\", 'give', 'way', 'to', 'hating', 'and', 'yet', \"don't\", 'look', 'too', 'good', 'nor', 'talk', 'too', 'wise']\n",
      "71\n",
      "{'can', 'or', 'for', 'make', 'keep', 'tired', 'too', \"don't\", 'look', 'it', 'talk', 'lied', 'men', 'and', 'on', 'when', 'be', 'hating', 'hated', 'losing', 'you', 'by', 'doubting', 'deal', 'their', 'in', 'to', 'wait', 'about', 'wise', 'aobut', 'lies', 'not', 'head', 'are', 'way', 'give', 'good', 'waiting', 'yet', 'allowance', 'yourself', 'but', 'nor', 'blaming', 'if', 'your', 'being', 'doubt', 'all', 'trust'}\n",
      "51\n"
     ]
    }
   ],
   "source": [
    "verse = \"if you can keep your head when all about you are losing their and blaming it on you if you can trust yourself when all men doubt you but make allowance for their doubting too if you can wait and not be tired by waiting or being lied aobut don't deal in lies or being hated don't give way to hating and yet don't look too good nor talk too wise\"\n",
    "words = verse.split()\n",
    "print(words)\n",
    "print(len(words))\n",
    "words_set= set(words)\n",
    "print(words_set)\n",
    "print(len(words_set))"
   ]
  },
  {
   "cell_type": "code",
   "execution_count": 44,
   "metadata": {},
   "outputs": [
    {
     "name": "stdout",
     "output_type": "stream",
     "text": [
      "ma\n",
      "Since you're from ma, your total cose is121.2.\n"
     ]
    }
   ],
   "source": [
    "state = input()\n",
    "purchase_amount = 120\n",
    "\n",
    "if state == \"CA\":\n",
    "    tax_amount = 0.075\n",
    "    total_cost = purchase_amount *(1+ tax_amount)\n",
    "    result= \"Since you're from {}, your total cost is{}.\".format(state, total_cost)\n",
    "elif state ==\"MN\":\n",
    "    tax_amount = 0.095\n",
    "    total_cost = purchase_amount *(1+ tax_amount)\n",
    "    result= \"Since you're from {}, your total cost is{}.\".format(state, total_cost)\n",
    "    \n",
    "elif state ==\"NY\":\n",
    "    tax_amount = 0.089\n",
    "    total_cost = purchase_amount *(1+ tax_amount)\n",
    "    result= \"Since you're from {}, your total cost is{}.\".format(state, total_cost)\n",
    "    \n",
    "else:\n",
    "    tax_amount = 0.0100\n",
    "    total_cost = purchase_amount *(1+ tax_amount)\n",
    "    result= \"Since you're from {}, your total cose is{}.\".format(state, total_cost)\n",
    "    \n",
    "print(result)"
   ]
  },
  {
   "cell_type": "code",
   "execution_count": null,
   "metadata": {},
   "outputs": [],
   "source": [
    "f = open(\"Movie_imfram\")"
   ]
  }
 ],
 "metadata": {
  "kernelspec": {
   "display_name": "Python 3",
   "language": "python",
   "name": "python3"
  },
  "language_info": {
   "codemirror_mode": {
    "name": "ipython",
    "version": 3
   },
   "file_extension": ".py",
   "mimetype": "text/x-python",
   "name": "python",
   "nbconvert_exporter": "python",
   "pygments_lexer": "ipython3",
   "version": "3.6.7"
  }
 },
 "nbformat": 4,
 "nbformat_minor": 2
}
