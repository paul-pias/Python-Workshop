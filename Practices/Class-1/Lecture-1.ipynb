{
 "cells": [
  {
   "cell_type": "markdown",
   "metadata": {},
   "source": [
    "# String\n"
   ]
  },
  {
   "cell_type": "code",
   "execution_count": null,
   "metadata": {},
   "outputs": [],
   "source": [
    "a = \"Hey\"\n",
    "b = \"Hey there!\"\n",
    "c = \"742 Evergreen Terrace\"\n",
    "d = \"1234\"\n",
    "e = \"'How long is a piece of string?' he asked\"\n",
    "f = \"'!$*#@ you!' she replied\""
   ]
  },
  {
   "cell_type": "code",
   "execution_count": null,
   "metadata": {},
   "outputs": [],
   "source": [
    "a = \"Hey\"\n",
    "print(len(a))"
   ]
  },
  {
   "cell_type": "code",
   "execution_count": null,
   "metadata": {},
   "outputs": [],
   "source": [
    "print(1+2)\n",
    "print(\"1\"+\"2\")"
   ]
  },
  {
   "cell_type": "code",
   "execution_count": null,
   "metadata": {},
   "outputs": [],
   "source": [
    "a = \"pic123\"\n",
    "b = \"21344\"\n",
    "print (a.isnumeric())\n",
    "print (b.isnumeric())"
   ]
  },
  {
   "cell_type": "code",
   "execution_count": 182,
   "metadata": {},
   "outputs": [
    {
     "name": "stdout",
     "output_type": "stream",
     "text": [
      "Once again he asked \"How long  is \\ a piece of string?\"\n"
     ]
    }
   ],
   "source": [
    "e = \"Once again he asked \\\"How long  is \\\\ a piece of string?\\\"\"\n",
    "print(e)"
   ]
  },
  {
   "cell_type": "markdown",
   "metadata": {},
   "source": [
    "Escape Sequence"
   ]
  },
  {
   "cell_type": "code",
   "execution_count": 173,
   "metadata": {},
   "outputs": [
    {
     "name": "stdout",
     "output_type": "stream",
     "text": [
      "ATTENTION!\n",
      "For those about to rock, we salute you!\n"
     ]
    }
   ],
   "source": [
    "msg = \"ATTENTION!\\nFor those about to rock, we salute you!\"\n",
    "print(msg)"
   ]
  },
  {
   "cell_type": "markdown",
   "metadata": {},
   "source": [
    "# Triple Quotes"
   ]
  },
  {
   "cell_type": "markdown",
   "metadata": {},
   "source": [
    "msg = \"\"\"This string\n",
    "spans\n",
    "multiple lines\"\"\"\n",
    "print(msg)\n",
    "\n",
    "msg = '''This string\n",
    "spans\n",
    "multiple lines'''\n",
    "print(msg)"
   ]
  },
  {
   "cell_type": "code",
   "execution_count": null,
   "metadata": {},
   "outputs": [],
   "source": [
    "planet = \"Jupiter\"\n",
    "print(planet[2])"
   ]
  },
  {
   "cell_type": "markdown",
   "metadata": {},
   "source": [
    "# String Formatting Operator"
   ]
  },
  {
   "cell_type": "code",
   "execution_count": 176,
   "metadata": {},
   "outputs": [
    {
     "name": "stdout",
     "output_type": "stream",
     "text": [
      "Hello Homer, you scored 3 out of 100.000000\n"
     ]
    }
   ],
   "source": [
    "print(\"Hello %s, you scored %i out of %i\" % (\"Homer\", 3, 100.00))"
   ]
  },
  {
   "cell_type": "code",
   "execution_count": null,
   "metadata": {},
   "outputs": [],
   "source": [
    "with open(\"test.txt\",'w',encoding = 'utf-8') as f:\n",
    "    f.write(\"my first file\\n\")\n",
    "    f.write(\"This file\\n\\n\")\n",
    "    f.write(\"contains three lines\\n\")\n",
    "\n",
    "x = 10\n",
    "x /= 5\n",
    "print(x)"
   ]
  },
  {
   "cell_type": "code",
   "execution_count": null,
   "metadata": {},
   "outputs": [],
   "source": [
    "# The current volume of a water reservoir (in cubic metres)\n",
    "reservoir_volume = 4.445e8\n",
    "# The amount of rainfall from a storm (in cubic metres)\n",
    "rainfall = 5e6\n",
    "\n",
    "# decrease the rainfall variable by 10% to account for runoff\n",
    "rainfall =\n",
    "\n",
    "# add the rainfall variable to the reservoir_volume variable\n",
    "reservoir_volume \n",
    "\n",
    "# increase reservoir_volume by 5% to account for stormwater that flows into the reservoir in the days following the storm\n",
    "reservoir_volume+=reservoir_volume*.05\n",
    "\n",
    "\n",
    "# decrease reservoir_volume by 5% to account for evaporation\n",
    "reservoir_volume =\n",
    "\n",
    "# subtract 2.5e5 cubic metres from reservoir_volume to account for water that's piped to arid regions.\n",
    "reservoir_volume = \n",
    "\n",
    "# print the new value of the reservoir_volume variable\n",
    "print(reservoir_volume)"
   ]
  },
  {
   "cell_type": "code",
   "execution_count": 161,
   "metadata": {},
   "outputs": [
    {
     "name": "stdout",
     "output_type": "stream",
     "text": [
      "Braveheart : Mel Gibson : Mel Gibson : 1995 : $75.60M\n",
      "The Terminal : Steven Spielberg : Tom Hanks : 2004 : $77.87M\n",
      "The Green Mile : Frank Darabont : Tom Hanks : 1999 : $136.80M\n",
      "The Hateful Eight : Quentin Tarantino : Samuel L. Jackson : 2015 : $155.8M\n",
      "The Godfather : Francis Ford Coppola : Al Pacino : 1972 : $134.97M\n",
      "The Shawshank Redemption : Frank Darabont : Morgan Freeman : 1994 : $28.34M\n",
      "Schindler's List : Steven Spielberg : Liam Neeson : 1993 : $96.07M\n",
      "Vertigo : Alfred Hitchcock : James Stewart : 1958 : $3.20M\n",
      "Forrest Gump : Robert Zemeckis : Tom Hanks : 1994 : $330.25M\n",
      "12 Angry Men : Sidney Lumet :  Henry Fonda : 1957 : $4.36M\n",
      "The Silence of the Lambs : Jonathan Demme : Anthony Hopkins  : 1991 : $130.74M\n",
      "It's a Wonderful Life : Frank Capra :  James Stewart: 1946 : $5.05M\n",
      "Amadeus : Milos Forman : F. Murray Abraham : 1984 : $51.97M\n",
      "Gladiator : Ridley Scott :  Russell Crowe: 2000 : $187.71M\n",
      "Titanic : James Cameron : Leonardo DiCaprio : 1997 : $659.33M\n",
      "Saving Private Ryan : Steven Spielberg : Tom Hanks: 1998 : $216.54M\n",
      "An American in Paris : Vincente Minnelli : Gene Kelly : 1951 : $4.50M\n",
      "The Best Years of Our Lives : William Wyler : Myrna Loy : 1946 : $23.65M\n",
      "A Clockwork Orange : Stanley Kubrick : Malcolm McDowell : 1971 : $26.5M\n",
      "Doctor Zhivago : David Lean : Omar Sharif : 1965 : $111.72M\n",
      "Jaws : Steven Spielberg : Roy Scheider : 1975 : $260.00M\n",
      "Patton : Franklin J. Schaffner : George C. Scott : 1970 : $61.70M\n",
      "A Streetcar Named Desire : Elia Kazan : Vivien Leigh : 1951 : $8.00M\n",
      "Rocky : John G. Avildsen : Sylvester Stallone : 1976 : $117.24M\n",
      "Raiders of the Lost Ark : Steven Spielberg : Harrison Ford : 1981 : $248.16M\n",
      "Unforgiven : Clint Eastwood : Clint Eastwood : 1992 : $101.16M\n",
      "From Here to Eternity : Fred Zinnemann : Burt Lancaster : 1953 : $30.50M\n",
      "The Lord of the Rings- The Return of the King : Peter Jackson: Elijah Wood: 2003 : $377.85M\n",
      "Apocalypse Now : Francis Ford Coppola : Martin Sheen : 1979 : $83.47M\n",
      "Dances with Wolves : Kevin Costner : Kevin Costner : 1990 : $184.21M\n",
      "On the Waterfront : Elia Kazan : Marlon Brando : 1954 : $9.60M\n",
      "Ben-Hur : William Wyler : Charlton Heston : 1959 : $74.70M\n",
      "Singin' in the Rain : Stanley Donen : Gene Kelly : 1952 : $8.82M\n",
      "The Bridge on the River Kwai : David Lean : William Holden : 1957 : $44.91M\n",
      "Chinatown : Roman Polanski : Jack Nicholson : 1974 : $29.20M\n",
      "E.T. the Extra-Terrestrial : Steven Spielberg : Henry Thomas : 1982 : $435.11M\n",
      "A Space Odyssey : Stanley Kubrick : Keir Dullea : 1968 : $56.95M\n",
      "West Side Story : Jerome Robbins : Natalie Wood : 1961 : $43.66M\n",
      "The Sound of Music : Robert Wise : Julie Andrews : 1965 : $163.21M\n",
      "Psycho : Alfred Hitchcock : Anthony Perkins : 1960 : $32.00M\n",
      "Lawrence of Arabia : David Lean : Peter O'Toole : 1962 : $44.82M\n",
      "One Flew Over the Cuckoo's Nest : Milos Forman : Jack Nicholson : 1975 : $112.00M\n",
      "Gone with the Wind : Victor Fleming : Clark Gable : 1939 : $198.68M\n",
      "Citizen Kane : Orson Welles : Orson Welles: 1941 : $1.59M\n",
      "Casablanca : Michael Curtiz : Humphrey Bogart : 1942 : $1.02M\n",
      "Raging Bull : Martin Scorsese : Robert De Niro : 1980 : $23.38M\n",
      "The Good, the Bad and the Ugly : Sergio Leone : Clint Eastwood: 1966 : $6.10M\n",
      "Platoon : Oliver Stone : Charlie Sheen: 1986 : $138.53M\n",
      "High Noon : Fred Zinnemann : Gary Cooper : 1952 : $9.45M\n",
      "Jurassic Park : Steven Spielberg : Sam Neill: 1993 : $402.45M\n"
     ]
    }
   ],
   "source": [
    "with open(\"movie_Information.txt\",'r') as f:\n",
    "    movies = f.read()\n",
    "    with open (\"Actors_Information.txt\",'w') as m:\n",
    "        print(movies)\n",
    "        m.write(movies)\n",
    "        \n",
    "#         for movie in movies:\n",
    "#             actor_name = (movie.split(\":\")[2])\n",
    "#             movie_name = (movie.split(\":\")[0])\n",
    "#             m.write(actor_name.strip() + \" : \" + movie_name.strip() + '\\n')\n"
   ]
  },
  {
   "cell_type": "code",
   "execution_count": 145,
   "metadata": {},
   "outputs": [],
   "source": [
    "with open(\"movie_Information.txt\",'r') as f:\n",
    "    movies = f.readlines()\n",
    "#     print(movies)\n",
    "    with open (\"Actors_Information.txt\",'w') as m:\n",
    "        for movie in movies:\n",
    "#             print((movie))\n",
    "            actor_name = movie.split(\":\")\n",
    "            print((actor_name))"
   ]
  },
  {
   "cell_type": "code",
   "execution_count": 111,
   "metadata": {},
   "outputs": [
    {
     "name": "stdout",
     "output_type": "stream",
     "text": [
      "4\n"
     ]
    }
   ],
   "source": [
    "with open (\"Actors_Information.txt\",'r') as m:\n",
    "    info = m.read().splitlines()\n",
    "    count = 0\n",
    "    for i in range(0,len(info)):\n",
    "        actor, movie = info[i].split(\":\")\n",
    "        if (actor.count(\"Tom Hanks\")) == True:\n",
    "            count+=1\n",
    "    print(count)\n",
    "    \n"
   ]
  },
  {
   "cell_type": "code",
   "execution_count": 78,
   "metadata": {},
   "outputs": [
    {
     "name": "stdout",
     "output_type": "stream",
     "text": [
      "<class 'str'>\n"
     ]
    }
   ],
   "source": [
    "a = \"Hi %s\" % (123)\n",
    "print(type(a))"
   ]
  },
  {
   "cell_type": "code",
   "execution_count": 79,
   "metadata": {},
   "outputs": [
    {
     "name": "stdout",
     "output_type": "stream",
     "text": [
      "----bee-----\n"
     ]
    }
   ],
   "source": [
    "a = \"bee\" \n",
    "b = a.center(12, \"-\")\n",
    "print(b)"
   ]
  },
  {
   "cell_type": "code",
   "execution_count": 113,
   "metadata": {},
   "outputs": [
    {
     "data": {
      "text/plain": [
       "0.14285714285714285"
      ]
     },
     "execution_count": 113,
     "metadata": {},
     "output_type": "execute_result"
    }
   ],
   "source": [
    "1/7"
   ]
  },
  {
   "cell_type": "code",
   "execution_count": 149,
   "metadata": {},
   "outputs": [
    {
     "name": "stdout",
     "output_type": "stream",
     "text": [
      "0.1429\n"
     ]
    }
   ],
   "source": [
    "hl = 0.14285714285714285\n",
    "print(\"{:.4f}\".format(hl))"
   ]
  },
  {
   "cell_type": "code",
   "execution_count": 163,
   "metadata": {},
   "outputs": [
    {
     "name": "stdout",
     "output_type": "stream",
     "text": [
      "12\n"
     ]
    }
   ],
   "source": [
    "sum = 12\n",
    "print(sum)"
   ]
  },
  {
   "cell_type": "code",
   "execution_count": 164,
   "metadata": {},
   "outputs": [],
   "source": [
    "m = (1/3 + 1/3)"
   ]
  },
  {
   "cell_type": "code",
   "execution_count": 172,
   "metadata": {},
   "outputs": [
    {
     "name": "stdout",
     "output_type": "stream",
     "text": [
      "<class 'int'>\n"
     ]
    }
   ],
   "source": [
    "nm = 1400000000000000\n",
    "print(type(nm))"
   ]
  },
  {
   "cell_type": "code",
   "execution_count": 167,
   "metadata": {},
   "outputs": [
    {
     "name": "stdout",
     "output_type": "stream",
     "text": [
      "'hello'\n"
     ]
    }
   ],
   "source": [
    "string = \"hello\"\n",
    "print(repr(string))"
   ]
  },
  {
   "cell_type": "code",
   "execution_count": null,
   "metadata": {},
   "outputs": [],
   "source": []
  }
 ],
 "metadata": {
  "kernelspec": {
   "display_name": "Python 3",
   "language": "python",
   "name": "python3"
  },
  "language_info": {
   "codemirror_mode": {
    "name": "ipython",
    "version": 3
   },
   "file_extension": ".py",
   "mimetype": "text/x-python",
   "name": "python",
   "nbconvert_exporter": "python",
   "pygments_lexer": "ipython3",
   "version": "3.6.8"
  }
 },
 "nbformat": 4,
 "nbformat_minor": 2
}
