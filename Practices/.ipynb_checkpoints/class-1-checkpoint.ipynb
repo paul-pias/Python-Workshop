{
 "cells": [
  {
   "cell_type": "markdown",
   "metadata": {},
   "source": [
    "# Python Syntax"
   ]
  },
  {
   "cell_type": "markdown",
   "metadata": {},
   "source": [
    "#  Hello World"
   ]
  },
  {
   "cell_type": "code",
   "execution_count": 1,
   "metadata": {},
   "outputs": [
    {
     "name": "stdout",
     "output_type": "stream",
     "text": [
      "hello world\n"
     ]
    }
   ],
   "source": [
    "print(\"hello world\")"
   ]
  },
  {
   "cell_type": "markdown",
   "metadata": {},
   "source": [
    "# Indentation"
   ]
  },
  {
   "cell_type": "markdown",
   "metadata": {},
   "source": [
    "• Most languages don’t care about indentation.<br>\n",
    "• But we tend to group similar things together to make contents more readable.<br>"
   ]
  },
  {
   "cell_type": "raw",
   "metadata": {},
   "source": [
    "//java\n",
    "if(true){\n",
    "    if(false){\n",
    "        System.out.println(\"Hello1 !\");\n",
    "}else{\n",
    "    System.out.println(\"Hello2 !\");\n",
    "}}"
   ]
  },
  {
   "cell_type": "markdown",
   "metadata": {},
   "source": [
    "• The else here actually belongs to the 2nd if statement."
   ]
  },
  {
   "cell_type": "markdown",
   "metadata": {},
   "source": [
    "• Python embraces indentation."
   ]
  },
  {
   "cell_type": "raw",
   "metadata": {},
   "source": [
    "# python\n",
    "if True:\n",
    "    if False:\n",
    "        print(\"Hello1 !\")\n",
    "    else:\n",
    "        print(\"Hello2 !\")"
   ]
  },
  {
   "cell_type": "markdown",
   "metadata": {},
   "source": [
    "# Comments"
   ]
  },
  {
   "cell_type": "code",
   "execution_count": 7,
   "metadata": {},
   "outputs": [
    {
     "data": {
      "text/plain": [
       "'\\n any string not assigned to a variable is considered comment.\\n this is an example of a multi-line comment.\\n'"
      ]
     },
     "execution_count": 7,
     "metadata": {},
     "output_type": "execute_result"
    }
   ],
   "source": [
    "#  A traditional one line comment\n",
    "\n",
    "\" this is a single line comment \"\n",
    "\n",
    "\"\"\"\n",
    " any string not assigned to a variable is considered comment.\n",
    " this is an example of a multi-line comment.\n",
    "\"\"\"\n"
   ]
  },
  {
   "cell_type": "markdown",
   "metadata": {},
   "source": [
    "# Types\n"
   ]
  },
  {
   "cell_type": "markdown",
   "metadata": {},
   "source": [
    "# strings"
   ]
  },
  {
   "cell_type": "code",
   "execution_count": 10,
   "metadata": {},
   "outputs": [],
   "source": [
    "# This is a string\n",
    "Name = \"Ahmad Hussein (that's me) \"\n",
    "Name.\n",
    "# This is also a string\n",
    "Home = 'Damascus, Syria'\n",
    "\n",
    "# This is a multi-line string\n",
    "Sites = ''' You can find me online on\n",
    "Sites like LinkedIn and Facebook.'''\n",
    "\n",
    "# This is also a multi-line string\n",
    "Bio = \"\"\" If you don’t find me online\n",
    "You can find me outside. \"\"\""
   ]
  },
  {
   "cell_type": "markdown",
   "metadata": {},
   "source": [
    "# Numbers"
   ]
  },
  {
   "cell_type": "code",
   "execution_count": 3,
   "metadata": {},
   "outputs": [
    {
     "name": "stdout",
     "output_type": "stream",
     "text": [
      "2\n"
     ]
    }
   ],
   "source": [
    "# Integer Number\n",
    "year = 2010\n",
    "year = int(\"2010\")\n",
    "\n",
    "# Floating Point Numbers\n",
    "pi = 3.14159265\n",
    "pi = float(\"3.14159265\")\n",
    "\n",
    "# Fixed Point Number\n",
    "# from decimal import Decimal\n",
    "# price = Decimal(\"2\")\n",
    "# print(price)"
   ]
  },
  {
   "cell_type": "markdown",
   "metadata": {},
   "source": [
    "# Null\n"
   ]
  },
  {
   "cell_type": "code",
   "execution_count": 12,
   "metadata": {},
   "outputs": [],
   "source": [
    "data = None"
   ]
  },
  {
   "cell_type": "markdown",
   "metadata": {},
   "source": [
    "# Lists"
   ]
  },
  {
   "cell_type": "code",
   "execution_count": 15,
   "metadata": {},
   "outputs": [
    {
     "name": "stdout",
     "output_type": "stream",
     "text": [
      "[42]\n",
      "[42, 'Python', True]\n",
      "[42, 'Python', True]\n",
      "['Python', True]\n",
      "['Python', True]\n",
      "[True]\n",
      "[42, True]\n",
      "[]\n"
     ]
    }
   ],
   "source": [
    "# Lists can be heterogenous\n",
    "favorites = []\n",
    "\n",
    "# Appending\n",
    "favorites.append(42)\n",
    "print(favorites)\n",
    "\n",
    "# Extending\n",
    "favorites.extend(['Python' , True])\n",
    "print(favorites)\n",
    "\n",
    "# Equivalent to\n",
    "favorites = [42 , 'Python' , True]\n",
    "print(favorites)\n",
    "\n",
    "favorites.pop(0)\n",
    "print(favorites)\n",
    "\n",
    "favorites.index(True)\n",
    "print(favorites)\n",
    "\n",
    "favorites.remove('Python')\n",
    "print(favorites)\n",
    "\n",
    "favorites.insert(0,42)\n",
    "print(favorites)\n",
    "\n",
    "favorites.clear()\n",
    "print(favorites)"
   ]
  },
  {
   "cell_type": "code",
   "execution_count": 21,
   "metadata": {},
   "outputs": [
    {
     "name": "stdout",
     "output_type": "stream",
     "text": [
      "[2, 3, 4, 5]\n"
     ]
    }
   ],
   "source": [
    "# another list example\n",
    "numbers = [ 1 , 2 , 3 , 4 , 5 ]\n",
    "\n",
    "# get length of the list\n",
    "len(numbers)\n",
    "# 5\n",
    "\n",
    "# get the value of index '0'\n",
    "numbers[0]\n",
    "# 1\n",
    "\n",
    "# get the values of index '0' to '2'\n",
    "numbers[0:2]\n",
    "# [1 ,2]\n",
    "\n",
    "# get all the values after 1st 2 values\n",
    "numbers[2:]\n",
    "# [3, 4, 5]\n",
    "\n",
    "# get first 2 values\n",
    "numbers[:2]\n",
    "# [1, 2]\n",
    "\n",
    "print(numbers[1:])"
   ]
  },
  {
   "cell_type": "markdown",
   "metadata": {},
   "source": [
    "# Dictionaries"
   ]
  },
  {
   "cell_type": "code",
   "execution_count": 22,
   "metadata": {},
   "outputs": [],
   "source": [
    "person = {}\n",
    "\n",
    "# Set by key / Get by key\n",
    "person['name'] = 'Ahmad Hussein'\n",
    "\n",
    "# Update\n",
    "person.update({\n",
    "'favorites' : [42 , 'food'] ,\n",
    "'gender' : 'male'\n",
    "})\n",
    "\n",
    "# Any immutable object can be a dictionary key\n",
    "person[42] = 'favorite number'\n",
    "person[(44.47 , -73.21)] = 'coordinates'"
   ]
  },
  {
   "cell_type": "code",
   "execution_count": 17,
   "metadata": {},
   "outputs": [
    {
     "name": "stdout",
     "output_type": "stream",
     "text": [
      "{'name': 'karim', 'gender': 'Male'}\n",
      "dict_keys(['name', 'gender'])\n",
      "dict_values(['karim', 'Male'])\n"
     ]
    },
    {
     "data": {
      "text/plain": [
       "dict_items([('name', 'karim'), ('gender', 'Male')])"
      ]
     },
     "execution_count": 17,
     "metadata": {},
     "output_type": "execute_result"
    }
   ],
   "source": [
    "person = { 'name' : 'karim' , 'gender' : 'Male'}\n",
    "\n",
    "person['name']\n",
    "person.get('name')\n",
    "# 'karim'\n",
    "print(person) \n",
    "\n",
    "# get all keys\n",
    "print(person.keys())\n",
    "\n",
    "# ['name' , 'gender']\n",
    "\n",
    "# get all values\n",
    "print(person.values())\n",
    "# ['karim' , 'Male']\n",
    "\n",
    "# get all items(key-value pairs)\n",
    "person.items()\n",
    "# [['name' , 'karim'] , ['gender' , 'Male']]"
   ]
  },
  {
   "cell_type": "markdown",
   "metadata": {},
   "source": [
    "# Booleans"
   ]
  },
  {
   "cell_type": "code",
   "execution_count": 20,
   "metadata": {},
   "outputs": [
    {
     "name": "stdout",
     "output_type": "stream",
     "text": [
      "None\n",
      "['c', 'd']\n"
     ]
    }
   ],
   "source": [
    "Is_python = True\n",
    "\n",
    "# Everything in python can be cast to Boolean\n",
    "Is_pyhton = bool('any object')\n",
    "\n",
    "# All of these things are equivalent to False\n",
    "These_are_false = False or 0 or \"\" or {} or [] or None\n",
    "print(These_are_false)\n",
    "\n",
    "# Most everything else is equivalent to True\n",
    "These_are_true = True and 1 and 'Text' and {'a' : 'b'} and ['c','d']\n",
    "print(These_are_true)"
   ]
  },
  {
   "cell_type": "markdown",
   "metadata": {},
   "source": [
    "# Operators"
   ]
  },
  {
   "cell_type": "markdown",
   "metadata": {},
   "source": [
    "# Arithmetic"
   ]
  },
  {
   "cell_type": "code",
   "execution_count": 23,
   "metadata": {},
   "outputs": [
    {
     "name": "stdout",
     "output_type": "stream",
     "text": [
      "11\n",
      "12\n",
      "11\n",
      "12\n",
      "10\n",
      "22\n",
      "5.5\n",
      "5\n",
      "2\n",
      "121\n"
     ]
    }
   ],
   "source": [
    "a = 11 # 11\n",
    "print(a)\n",
    "a += 1 # 12\n",
    "print(a)\n",
    "a -= 1 # 11\n",
    "print(a)\n",
    "b = a + 1 # 12\n",
    "print(b)\n",
    "c = a - 1 # 10\n",
    "print(c)\n",
    "d = a * 2 # 22\n",
    "print(d)\n",
    "e = a / 2 # 5.5\n",
    "print(e)\n",
    "m = a // 2 # 5\n",
    "print(m)\n",
    "f = a % 3 # 2\n",
    "print(f)\n",
    "g = a ** 2 # 121\n",
    "print(g)"
   ]
  },
  {
   "cell_type": "markdown",
   "metadata": {},
   "source": [
    "# String Manipulation"
   ]
  },
  {
   "cell_type": "code",
   "execution_count": 26,
   "metadata": {},
   "outputs": [
    {
     "name": "stdout",
     "output_type": "stream",
     "text": [
      "Apple, Banana, Orange\n"
     ]
    }
   ],
   "source": [
    "animals = 'Cats ' + 'Dogs '\n",
    "animals += 'Rabbits'\n",
    "# Cats Dogs Rabbits\n",
    "\n",
    "fruit = ', '.join(['Apple' , 'Banana' , 'Orange'])\n",
    "print(fruit)\n",
    "#Apple, Banana, Orange\n",
    "\n",
    "date = '%s %d %d' % ('Mar' , 20 , 2018)\n",
    "# Mar 20 2018\n",
    "\n",
    "name = '%(first)s %(last)s' % {\n",
    "'first' : 'Ahmad' ,\n",
    "'last' : 'Hussein'}\n",
    "# Ahmad Hussein"
   ]
  },
  {
   "cell_type": "markdown",
   "metadata": {},
   "source": [
    "# Logical Comparison"
   ]
  },
  {
   "cell_type": "code",
   "execution_count": 29,
   "metadata": {},
   "outputs": [
    {
     "data": {
      "text/plain": [
       "False"
      ]
     },
     "execution_count": 29,
     "metadata": {},
     "output_type": "execute_result"
    }
   ],
   "source": [
    "# Logical And\n",
    "a and b\n",
    "\n",
    "# Logical Or\n",
    "a or b\n",
    "\n",
    "# Logical Negation\n",
    "not a\n",
    "\n",
    "# Compound\n",
    "(a and not (b or c))"
   ]
  },
  {
   "cell_type": "markdown",
   "metadata": {},
   "source": [
    "# Identity Comparison"
   ]
  },
  {
   "cell_type": "code",
   "execution_count": 30,
   "metadata": {},
   "outputs": [
    {
     "data": {
      "text/plain": [
       "False"
      ]
     },
     "execution_count": 30,
     "metadata": {},
     "output_type": "execute_result"
    }
   ],
   "source": [
    "1 is 1 == True\n",
    "\n",
    "# Non Identity\n",
    "1 is not '1' == True\n",
    "\n",
    "# Example\n",
    "bool(1) == True\n",
    "bool(True) == True\n",
    "1 and True == True\n",
    "1 is True == False"
   ]
  },
  {
   "cell_type": "markdown",
   "metadata": {},
   "source": [
    "# Arithmetic Comparison"
   ]
  },
  {
   "cell_type": "code",
   "execution_count": 31,
   "metadata": {},
   "outputs": [
    {
     "data": {
      "text/plain": [
       "True"
      ]
     },
     "execution_count": 31,
     "metadata": {},
     "output_type": "execute_result"
    }
   ],
   "source": [
    "# Ordering\n",
    "a > b\n",
    "a >= b\n",
    "a < b\n",
    "a <= b\n",
    "\n",
    "# Equality / Difference\n",
    "a == b\n",
    "a != b"
   ]
  },
  {
   "cell_type": "markdown",
   "metadata": {},
   "source": [
    "# Task 1"
   ]
  },
  {
   "cell_type": "code",
   "execution_count": null,
   "metadata": {},
   "outputs": [],
   "source": [
    "Read two integers and print two lines. The first line should contain \n",
    "    integer division, // . The second line should contain float division, /\n",
    "\n",
    "    You don't need to perform any rounding or formatting operations.\n",
    "\n",
    "Input Format:\n",
    "\n",
    "    The first line contains the first integer,\n",
    "    The second line contains the second integer,\n",
    "\n",
    "Output Format :\n",
    "\n",
    "    Print the two lines as described above.\n",
    "\n",
    "Sample Input :\n",
    "\n",
    "4\n",
    "3\n",
    "\n",
    "Sample Output :\n",
    "\n",
    "1\n",
    "1.33333333333\n",
    "\n",
    "\n",
    "\n",
    "\n",
    "<h4>Answer Below,</h4>"
   ]
  },
  {
   "cell_type": "code",
   "execution_count": null,
   "metadata": {},
   "outputs": [],
   "source": [
    "def pythonDivision(a,b):\n",
    "    # write your code here!\n",
    "\n",
    "    \n",
    "    print(\"ans\")\n",
    "    \n",
    "\n",
    "    \n",
    "if __name__ == '__main__':\n",
    "    a = int(input())\n",
    "    b = int(input())\n",
    "    pythonDivision(a,b)"
   ]
  },
  {
   "cell_type": "markdown",
   "metadata": {},
   "source": [
    "# Task 2"
   ]
  },
  {
   "cell_type": "code",
   "execution_count": null,
   "metadata": {},
   "outputs": [],
   "source": [
    "Read two integers from STDIN and print three lines where :\n",
    "\n",
    "    The first line contains the sum of the two numbers.\n",
    "    The second line contains the difference of the two numbers \n",
    "    (first - second).\n",
    "    The third line contains the product of the two numbers.\n",
    "\n",
    "Input Format :\n",
    "\n",
    "    The first line contains the first integer,\n",
    "    The second line contains the second integer,\n",
    "\n",
    "Output Format :\n",
    "\n",
    "    Print the three lines as explained above.\n",
    "\n",
    "Sample Input :\n",
    "\n",
    "3\n",
    "2\n",
    "\n",
    "Sample Output :\n",
    "\n",
    "5\n",
    "1\n",
    "6\n",
    "\n",
    "Explanation :\n",
    "\n",
    "3+2=> 5\n",
    "3-2=> 1\n",
    "3*2=> 6"
   ]
  },
  {
   "cell_type": "code",
   "execution_count": null,
   "metadata": {},
   "outputs": [],
   "source": [
    "def arithmeticOperators(a,b):\n",
    "    # write your code here!\n",
    "\n",
    "    \n",
    "    print(\"ans\")\n",
    "    \n",
    "\n",
    "    \n",
    "if __name__ == '__main__':\n",
    "    a = int(input())\n",
    "    b = int(input())\n",
    "    arithmeticOperators(a,b)"
   ]
  }
 ],
 "metadata": {
  "kernelspec": {
   "display_name": "Python 3",
   "language": "python",
   "name": "python3"
  },
  "language_info": {
   "codemirror_mode": {
    "name": "ipython",
    "version": 3
   },
   "file_extension": ".py",
   "mimetype": "text/x-python",
   "name": "python",
   "nbconvert_exporter": "python",
   "pygments_lexer": "ipython3",
   "version": "3.6.8"
  }
 },
 "nbformat": 4,
 "nbformat_minor": 2
}
