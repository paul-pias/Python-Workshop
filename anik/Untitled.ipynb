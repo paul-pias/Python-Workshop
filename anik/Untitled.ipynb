{
 "cells": [
  {
   "cell_type": "code",
   "execution_count": 2,
   "metadata": {},
   "outputs": [
    {
     "name": "stdout",
     "output_type": "stream",
     "text": [
      "Whether you think you can, or you think you can't--you're right.\n"
     ]
    }
   ],
   "source": [
    "ford_quote = \"Whether you think you can, or you think you can\\'t--you\\'re right.\"\n",
    "print(ford_quote)"
   ]
  },
  {
   "cell_type": "code",
   "execution_count": 12,
   "metadata": {},
   "outputs": [
    {
     "name": "stdout",
     "output_type": "stream",
     "text": [
      "Earth jupiter\n"
     ]
    }
   ],
   "source": [
    "Planet = \"Earth\"\n",
    "planet = \"jupiter\"\n",
    "\n",
    "print(Planet,planet)"
   ]
  },
  {
   "cell_type": "code",
   "execution_count": 13,
   "metadata": {},
   "outputs": [
    {
     "name": "stdout",
     "output_type": "stream",
     "text": [
      "MAT250\n"
     ]
    }
   ],
   "source": [
    "student = [\n",
    "                  [\n",
    "                     \"Sujit\",\n",
    "              [\n",
    "                \"15120245\",3.14,8,\n",
    "                [\n",
    "                  \"CSE215\",\"MAT250\"\n",
    "                ]\n",
    "             ]\n",
    "          ],\n",
    "              [\n",
    "                  \"Ali\",\n",
    "                [\n",
    "                    \"1212563\"\n",
    "                ]\n",
    "              ],\n",
    "              \n",
    "        [\n",
    "        \"\",\n",
    "               [\n",
    "                   \"Bad\"\n",
    "               ]\n",
    "         ]\n",
    "        ]\n",
    "print(student[0][1][3][1])"
   ]
  },
  {
   "cell_type": "code",
   "execution_count": 15,
   "metadata": {},
   "outputs": [
    {
     "name": "stdout",
     "output_type": "stream",
     "text": [
      "MAT250\n"
     ]
    }
   ],
   "source": [
    "student = [[\"Sujit\",[\"15120245\",3.14,8,[\"CSE215\",\"MAT250\"]]],\n",
    "              [\"Ali\",[\"1212563\"]],\n",
    "              [\"\",[\"Bad\"]]\n",
    "          ]\n",
    "print(student[0][1][3][1])"
   ]
  },
  {
   "cell_type": "code",
   "execution_count": 21,
   "metadata": {},
   "outputs": [
    {
     "name": "stdout",
     "output_type": "stream",
     "text": [
      "Latitude: 13.4215\n",
      "longitude: 103.86676\n"
     ]
    }
   ],
   "source": [
    "location=(13.4215,103.86676)\n",
    "print(\"Latitude:\",location[0])\n",
    "print (\"longitude:\",location[1])"
   ]
  },
  {
   "cell_type": "code",
   "execution_count": 22,
   "metadata": {},
   "outputs": [
    {
     "name": "stdout",
     "output_type": "stream",
     "text": [
      "(52, 40, 100)\n",
      "52\n",
      "40\n",
      "100\n"
     ]
    }
   ],
   "source": [
    "dimension = 52,40,100\n",
    "print(dimension)\n",
    "length,width,height=dimension\n",
    "print(length)\n",
    "print(width)\n",
    "print(height)"
   ]
  },
  {
   "cell_type": "code",
   "execution_count": 25,
   "metadata": {},
   "outputs": [
    {
     "name": "stdout",
     "output_type": "stream",
     "text": [
      "[1, 2, 3, 1, 4, 1, 6]\n",
      "18\n",
      "{1, 2, 3, 4, 6}\n"
     ]
    }
   ],
   "source": [
    "numbers=[1,2,3,1,4,1,6]\n",
    "print (numbers)\n",
    "print(sum(numbers))\n",
    "number_set=set(numbers)\n",
    "print(number_set)"
   ]
  },
  {
   "cell_type": "code",
   "execution_count": 28,
   "metadata": {},
   "outputs": [
    {
     "name": "stdout",
     "output_type": "stream",
     "text": [
      "{1, 2, 3, 4, 'two', 6, 7, 9, 'one'}\n"
     ]
    }
   ],
   "source": [
    "new_set={9,\"one\",7,\"two\"}\n",
    "number_set.update(new_set)\n",
    "print(number_set)"
   ]
  },
  {
   "cell_type": "code",
   "execution_count": 30,
   "metadata": {},
   "outputs": [
    {
     "name": "stdout",
     "output_type": "stream",
     "text": [
      "{'shangai': 17.4, 'istanbul': 13.3, 'karachi': 13.0, 'mumbai': 12.5}\n"
     ]
    }
   ],
   "source": [
    "population={\n",
    "    \n",
    "    'shangai':17.4,\n",
    "    'istanbul':13.3,\n",
    "    'karachi':13.0,\n",
    "    'mumbai':12.5,\n",
    "    \n",
    "}\n",
    "print(population)"
   ]
  },
  {
   "cell_type": "code",
   "execution_count": 31,
   "metadata": {},
   "outputs": [
    {
     "name": "stdout",
     "output_type": "stream",
     "text": [
      "{'shangai': {'country': 'china', 'population': 17.4}, 'istanbul': 13.3, 'karachi': 13.0, 'mumbai': 12.5}\n"
     ]
    }
   ],
   "source": [
    "population['shangai']={\n",
    "    'country':'china',\n",
    "    'population':17.4\n",
    "}\n",
    "print(population)"
   ]
  },
  {
   "cell_type": "code",
   "execution_count": 37,
   "metadata": {},
   "outputs": [
    {
     "name": "stdout",
     "output_type": "stream",
     "text": [
      "50\n",
      "nice! matched\n"
     ]
    }
   ],
   "source": [
    "answer = 50\n",
    "guess =int(input())\n",
    "\n",
    "if(guess<answer):\n",
    "    result=\"too low\"\n",
    "elif(guess>answer):\n",
    "    result=\"too high\"\n",
    "elif(guess==answer):\n",
    "    result=\"nice! matched\"\n",
    "else:\n",
    "    result =\"invalid\"\n",
    "    \n",
    "    \n",
    "print(result)\n",
    "\n"
   ]
  },
  {
   "cell_type": "markdown",
   "metadata": {},
   "source": []
  },
  {
   "cell_type": "code",
   "execution_count": 39,
   "metadata": {},
   "outputs": [
    {
     "name": "stdout",
     "output_type": "stream",
     "text": [
      "color exist\n"
     ]
    }
   ],
   "source": [
    "colors =['red','blue','green']\n",
    "\n",
    "if('red'in colors):\n",
    "    print(\"color exist\")\n",
    "else:\n",
    "    print(\"color doesnt exist!\")"
   ]
  },
  {
   "cell_type": "code",
   "execution_count": 42,
   "metadata": {},
   "outputs": [
    {
     "name": "stdout",
     "output_type": "stream",
     "text": [
      "['if', 'you', 'can', 'keep', 'your', 'head', 'when', 'all', 'about', 'you', 'are', 'losing', 'theirs', 'and', 'blaming', 'it', 'on', 'you', 'if', 'you', 'can', 'trust', 'yourself', 'when', 'all', 'men', 'doubt', 'you', 'but', 'make', 'allowance', 'for', 'their', 'doubting', 'too', 'if', 'you', 'can', 'wait', 'and', 'not', 'be', 'tired', 'by', 'waiting', 'or', 'being', 'lied', 'about', 'don’t', 'deal', 'in', 'lies', 'or', 'being', 'hated', 'don’t', 'give', 'way', 'to', 'hating', 'and', 'yet', 'don’t', 'look', 'too', 'good', 'nor', 'talk', 'too', 'wise']\n",
      "71\n",
      "{'deal', 'men', 'for', 'hating', 'head', 'good', 'doubt', 'keep', 'blaming', 'waiting', 'if', 'can', 'being', 'give', 'way', 'and', 'but', 'when', 'their', 'lies', 'to', 'your', 'theirs', 'in', 'yet', 'by', 'nor', 'losing', 'trust', 'look', 'wait', 'be', 'it', 'lied', 'too', 'you', 'on', 'doubting', 'hated', 'not', 'are', 'allowance', 'don’t', 'wise', 'tired', 'talk', 'or', 'all', 'make', 'yourself', 'about'}\n",
      "51\n"
     ]
    }
   ],
   "source": [
    "verse = \"if you can keep your head when all about you are losing theirs and blaming it on you   if you can trust yourself when all men doubt you     but make allowance for their doubting too   if you can wait and not be tired by waiting      or being lied about  don’t deal in lies   or being hated  don’t give way to hating      and yet don’t look too good  nor talk too wise\"\n",
    "\n",
    "words = verse.split()\n",
    "print(words)\n",
    "\n",
    "print(len(words))\n",
    "words_set = set(words)\n",
    "\n",
    "print(words_set)\n",
    "print(len(words_set))"
   ]
  },
  {
   "cell_type": "code",
   "execution_count": 51,
   "metadata": {},
   "outputs": [
    {
     "name": "stdout",
     "output_type": "stream",
     "text": [
      "since you are fromCA, your total cost is129.0\n"
     ]
    }
   ],
   "source": [
    "state = 'CA'\n",
    "purchase_amount =120\n",
    "\n",
    "if state ==\"CA\":\n",
    "    tax_amount = 0.075\n",
    "    total_cost = purchase_amount*(1+tax_amount)\n",
    "    result = \"since you are from{}, your total cost is{}\".format(state,total_cost)\n",
    "    \n",
    "elif state ==\"MW\":\n",
    "    tax_amount = 0.095\n",
    "    total_cost = purchase_amount*(1+tax_amount)\n",
    "    result = \"since you are from{}, your total cost is{}\".format(state,total_cost)\n",
    "    \n",
    "elif state ==\"NY\":\n",
    "    tax_amount = 0.089\n",
    "    total_cost = purchase_amount*(1+tax_amount)\n",
    "    result = \"since you are from{}, your total cost is{}\".format(state,total_cost)\n",
    "\n",
    "print(result)"
   ]
  },
  {
   "cell_type": "code",
   "execution_count": null,
   "metadata": {},
   "outputs": [],
   "source": []
  },
  {
   "cell_type": "code",
   "execution_count": null,
   "metadata": {},
   "outputs": [],
   "source": []
  }
 ],
 "metadata": {
  "kernelspec": {
   "display_name": "Python 3",
   "language": "python",
   "name": "python3"
  },
  "language_info": {
   "codemirror_mode": {
    "name": "ipython",
    "version": 3
   },
   "file_extension": ".py",
   "mimetype": "text/x-python",
   "name": "python",
   "nbconvert_exporter": "python",
   "pygments_lexer": "ipython3",
   "version": "3.6.7"
  }
 },
 "nbformat": 4,
 "nbformat_minor": 2
}
